{
 "cells": [
  {
   "cell_type": "code",
   "execution_count": 70,
   "metadata": {},
   "outputs": [],
   "source": [
    "import numpy as np\n",
    "import pandas as pd\n",
    "\n",
    "from sklearn.linear_model import LinearRegression\n",
    "from sklearn.preprocessing import StandardScaler\n",
    "\n",
    "import seaborn as sns\n",
    "from scipy import stats\n",
    "from scipy.stats import skew\n",
    "import matplotlib.pyplot as plt\n",
    "%matplotlib inline\n"
   ]
  },
  {
   "cell_type": "code",
   "execution_count": 71,
   "metadata": {},
   "outputs": [],
   "source": [
    "train_df = pd.read_csv('./train.csv')\n",
    "test_df = pd.read_csv('./test.csv')"
   ]
  },
  {
   "cell_type": "code",
   "execution_count": 72,
   "metadata": {},
   "outputs": [
    {
     "name": "stdout",
     "output_type": "stream",
     "text": [
      "Id                  0\n",
      "MSSubClass          0\n",
      "MSZoning            0\n",
      "LotFrontage       259\n",
      "LotArea             0\n",
      "Street              0\n",
      "Alley            1369\n",
      "LotShape            0\n",
      "LandContour         0\n",
      "Utilities           0\n",
      "LotConfig           0\n",
      "LandSlope           0\n",
      "Neighborhood        0\n",
      "Condition1          0\n",
      "Condition2          0\n",
      "BldgType            0\n",
      "HouseStyle          0\n",
      "OverallQual         0\n",
      "OverallCond         0\n",
      "YearBuilt           0\n",
      "YearRemodAdd        0\n",
      "RoofStyle           0\n",
      "RoofMatl            0\n",
      "Exterior1st         0\n",
      "Exterior2nd         0\n",
      "MasVnrType          8\n",
      "MasVnrArea          8\n",
      "ExterQual           0\n",
      "ExterCond           0\n",
      "Foundation          0\n",
      "                 ... \n",
      "BedroomAbvGr        0\n",
      "KitchenAbvGr        0\n",
      "KitchenQual         0\n",
      "TotRmsAbvGrd        0\n",
      "Functional          0\n",
      "Fireplaces          0\n",
      "FireplaceQu       690\n",
      "GarageType         81\n",
      "GarageYrBlt        81\n",
      "GarageFinish       81\n",
      "GarageCars          0\n",
      "GarageArea          0\n",
      "GarageQual         81\n",
      "GarageCond         81\n",
      "PavedDrive          0\n",
      "WoodDeckSF          0\n",
      "OpenPorchSF         0\n",
      "EnclosedPorch       0\n",
      "3SsnPorch           0\n",
      "ScreenPorch         0\n",
      "PoolArea            0\n",
      "PoolQC           1453\n",
      "Fence            1179\n",
      "MiscFeature      1406\n",
      "MiscVal             0\n",
      "MoSold              0\n",
      "YrSold              0\n",
      "SaleType            0\n",
      "SaleCondition       0\n",
      "SalePrice           0\n",
      "Length: 81, dtype: int64\n",
      "Id                  0\n",
      "MSSubClass          0\n",
      "MSZoning            4\n",
      "LotFrontage       227\n",
      "LotArea             0\n",
      "Street              0\n",
      "Alley            1352\n",
      "LotShape            0\n",
      "LandContour         0\n",
      "Utilities           2\n",
      "LotConfig           0\n",
      "LandSlope           0\n",
      "Neighborhood        0\n",
      "Condition1          0\n",
      "Condition2          0\n",
      "BldgType            0\n",
      "HouseStyle          0\n",
      "OverallQual         0\n",
      "OverallCond         0\n",
      "YearBuilt           0\n",
      "YearRemodAdd        0\n",
      "RoofStyle           0\n",
      "RoofMatl            0\n",
      "Exterior1st         1\n",
      "Exterior2nd         1\n",
      "MasVnrType         16\n",
      "MasVnrArea         15\n",
      "ExterQual           0\n",
      "ExterCond           0\n",
      "Foundation          0\n",
      "                 ... \n",
      "HalfBath            0\n",
      "BedroomAbvGr        0\n",
      "KitchenAbvGr        0\n",
      "KitchenQual         1\n",
      "TotRmsAbvGrd        0\n",
      "Functional          2\n",
      "Fireplaces          0\n",
      "FireplaceQu       730\n",
      "GarageType         76\n",
      "GarageYrBlt        78\n",
      "GarageFinish       78\n",
      "GarageCars          1\n",
      "GarageArea          1\n",
      "GarageQual         78\n",
      "GarageCond         78\n",
      "PavedDrive          0\n",
      "WoodDeckSF          0\n",
      "OpenPorchSF         0\n",
      "EnclosedPorch       0\n",
      "3SsnPorch           0\n",
      "ScreenPorch         0\n",
      "PoolArea            0\n",
      "PoolQC           1456\n",
      "Fence            1169\n",
      "MiscFeature      1408\n",
      "MiscVal             0\n",
      "MoSold              0\n",
      "YrSold              0\n",
      "SaleType            1\n",
      "SaleCondition       0\n",
      "Length: 80, dtype: int64\n"
     ]
    }
   ],
   "source": [
    "print(train_df.isnull().sum())\n",
    "print(test_df.isnull().sum())"
   ]
  },
  {
   "cell_type": "code",
   "execution_count": 73,
   "metadata": {},
   "outputs": [
    {
     "data": {
      "text/plain": [
       "<matplotlib.axes._subplots.AxesSubplot at 0x2957b822400>"
      ]
     },
     "execution_count": 73,
     "metadata": {},
     "output_type": "execute_result"
    },
    {
     "data": {
      "image/png": "[encoded data removed]",
      "text/plain": [
       "<Figure size 432x288 with 1 Axes>"
      ]
     },
     "metadata": {
      "needs_background": "light"
     },
     "output_type": "display_data"
    }
   ],
   "source": [
    "#scatter plot for outliar between grlivarea/saleprice\n",
    "test_data = pd.concat([train_df['SalePrice'], train_df['GrLivArea']],axis = 1)\n",
    "test_data.plot.scatter(x='GrLivArea', y='SalePrice', ylim=(0,800000))"
   ]
  },
  {
   "cell_type": "code",
   "execution_count": 74,
   "metadata": {},
   "outputs": [
    {
     "data": {
      "text/plain": [
       "<matplotlib.axes._subplots.AxesSubplot at 0x2957d179b38>"
      ]
     },
     "execution_count": 74,
     "metadata": {},
     "output_type": "execute_result"
    },
    {
     "data": {
      "image/png": "[encoded data removed]",
      "text/plain": [
       "<Figure size 432x288 with 1 Axes>"
      ]
     },
     "metadata": {
      "needs_background": "light"
     },
     "output_type": "display_data"
    }
   ],
   "source": [
    "test_data_2 = pd.concat([train_df['SalePrice'], train_df['TotalBsmtSF']], axis = 1)\n",
    "test_data_2.plot.scatter(x ='TotalBsmtSF', y ='SalePrice', ylim=(0,800000))"
   ]
  },
  {
   "cell_type": "code",
   "execution_count": 75,
   "metadata": {},
   "outputs": [],
   "source": [
    "train_df = train_df[train_df.GrLivArea < 4000]"
   ]
  },
  {
   "cell_type": "code",
   "execution_count": 76,
   "metadata": {},
   "outputs": [],
   "source": [
    "# Replace with missing data\n",
    "train_df.loc[:,'LotFrontage'] = train_df.loc[:, 'LotFrontage'].fillna(0)\n",
    "train_df.loc[:,'Alley'] = train_df.loc[:, 'Alley'].fillna(\"None\")\n",
    "train_df.loc[:,'BsmtCond'] = train_df.loc[:, 'BsmtCond'].fillna(\"No\")\n",
    "train_df.loc[:,'LotArea'] = train_df.loc[:, 'LotArea'].fillna(0)\n",
    "train_df.loc[:,'MasVnrType'] = train_df.loc[:, \"MasVnrType\"].fillna(\"None\")\n",
    "train_df.loc[:,'MasVnrArea'] = train_df.loc[:, 'MasVnrArea'].fillna(0)\n",
    "train_df.loc[:,'BsmtQual'] = train_df.loc[:, 'BsmtQual'].fillna(\"None\")\n",
    "train_df.loc[:,'BsmtExposure'] = train_df.loc[:, 'BsmtExposure'].fillna(\"No\")\n",
    "train_df.loc[:,'BsmtFinType1'] = train_df.loc[:, 'BsmtFinType1'].fillna(\"No\")\n",
    "train_df.loc[:,'BsmtFinType2'] = train_df.loc[:, 'BsmtFinType2'].fillna(\"No\")\n",
    "train_df.loc[:,'FireplaceQu'] = train_df.loc[:, 'FireplaceQu'].fillna(\"No\")\n",
    "train_df.loc[:,'GarageType'] = train_df.loc[:, 'GarageType'].fillna(\"No\")\n",
    "train_df.loc[:,'GarageFinish'] = train_df.loc[:,'GarageFinish'].fillna(\"No\")\n",
    "train_df.loc[:, 'GarageQual'] = train_df.loc[:,'GarageQual'].fillna(\"No\")\n",
    "train_df.loc[:, 'PoolQC'] = train_df.loc[:, 'PoolQC'].fillna(\"No\")\n",
    "train_df.loc[:, 'Fence'] = train_df.loc[:, 'Fence'].fillna(\"No\")\n",
    "train_df.loc[:, 'MiscFeature'] = train_df.loc[:, 'MiscFeature'].fillna(\"No\")\n",
    "train_df.loc[:, 'MiscVal'] = train_df.loc[:, 'MiscVal'].fillna(\"No\")"
   ]
  },
  {
   "cell_type": "code",
   "execution_count": 77,
   "metadata": {},
   "outputs": [],
   "source": [
    "#replace the ranking to ordinal numerical value\n",
    "\n",
    "train_df = train_df.replace({\"Alley\" : {\"None\": 0, \"Grvl\": 1 , \"Pave\" : 2},\n",
    "                             \"BsmtCond\" : {\"No\" : 0, \"Po\" : 1, \"Fa\" : 2, \"TA\" : 3, \"Gd\" : 4, \"Ex\" : 5},\n",
    "                             \"Street\" : {\"Grvl\" : 1, \"Pave\" : 2},\n",
    "                             \"ExterQual\" : {\"Po\" : 1, \"Fa\" : 2, \"TA\": 3, \"Gd\": 4, \"Ex\" : 5},\n",
    "                             \"ExterCond\" : {\"Po\" : 1, \"Fa\" : 2, \"TA\": 3, \"Gd\": 4, \"Ex\" : 5},\n",
    "                             \"BsmtQual\" : {\"No\" : 0, \"Po\" : 1, \"Fa\" : 2, \"TA\": 3, \"Gd\" : 4, \"Ex\" : 5},\n",
    "                             \"BsmtCond\" : {\"No\" : 0, \"Po\" : 1, \"Fa\" : 2, \"TA\" : 3, \"Gd\" : 4, \"Ex\" : 5},\n",
    "                             \"BsmtExposure\" : {\"No\" : 0, \"Mn\" : 1, \"Av\": 2, \"Gd\" : 3},\n",
    "                             \"BsmtFinType1\" : {\"No\" : 0, \"Unf\" : 1, \"LwQ\": 2, \"Rec\" : 3, \"BLQ\" : 4, \"ALQ\" : 5, \"GLQ\" : 6},\n",
    "                             \"BsmtFinType2\" : {\"No\" : 0, \"Unf\" : 1, \"LwQ\": 2, \"Rec\" : 3, \"BLQ\" : 4, \"ALQ\" : 5, \"GLQ\" : 6},\n",
    "                             \"HeatingQC\" : {\"Po\" : 1, \"Fa\" : 2, \"TA\" : 3, \"Gd\" : 4, \"Ex\" : 5},\n",
    "                             \"KitchenQual\" : {\"Po\" : 1, \"Fa\" : 2, \"TA\" : 3, \"Gd\" : 4, \"Ex\" : 5},\n",
    "                             \"Functional\" : {\"Sal\" : 1, \"Sev\" : 2, \"Maj2\" : 3, \"Maj1\" : 4, \"Mod\": 5, \"Min2\" : 6, \"Min1\" : 7, \"Typ\" : 8}, \n",
    "                             \"GarageQual\" : {\"No\" : 0, \"Po\" : 1, \"Fa\" : 2, \"TA\" : 3, \"Gd\" : 4, \"Ex\" : 5},\n",
    "                             \"PavedDrive\" : {\"N\" : 0, \"P\" : 1, \"Y\" : 2},\n",
    "                             \"PoolQC\" : {\"No\" : 0, \"Fa\" : 1, \"TA\" : 2, \"Gd\" : 3, \"Ex\" : 4}})"
   ]
  },
  {
   "cell_type": "code",
   "execution_count": 78,
   "metadata": {},
   "outputs": [],
   "source": [
    "train_df['Simplified_OverallQual']= train_df.OverallQual.replace({1 : 1, 2 : 1, 3 : 1, # bad\n",
    "                                                                  4 : 2, 5 : 2, 6 : 2, # average\n",
    "                                                                  7 : 3, 8 : 3, 9 : 3, 10 : 3 # good\n",
    "                                                                  })\n",
    "train_df['Simplified_OverallCond'] = train_df.OverallCond.replace({1 : 1, 2 : 1, 3 : 1, # bad\n",
    "                                                                   4 : 2, 5 : 2, 6 : 2, # average\n",
    "                                                                   7 : 3, 8 : 3, 9 : 3, 10 : 3 # good\n",
    "                                                                  })\n",
    "train_df['Simplified_ExterQual'] = train_df.ExterQual.replace({1 : 1, # bad\n",
    "                                                               2 : 1, 3 : 1, # average\n",
    "                                                               4 : 2, 5 : 2 # good\n",
    "                                                              })\n",
    "train_df[\"Simplified_PoolQC\"] = train_df.PoolQC.replace({1 : 1, 2 : 1, # average\n",
    "                                                         3 : 2, 4 : 2 # good\n",
    "                                                        })\n",
    "train_df[\"Simplified_GarageCond\"] = train_df.GarageCond.replace({1 : 1, # bad\n",
    "                                                           2 : 1, 3 : 1, # average\n",
    "                                                           4 : 2, 5 : 2 # good\n",
    "                                                          })\n",
    "train_df[\"Simplified_GarageQual\"] = train_df.GarageQual.replace({1 : 1, # bad\n",
    "                                                           2 : 1, 3 : 1, # average\n",
    "                                                           4 : 2, 5 : 2 # good\n",
    "                                                          })\n",
    "train_df[\"Simplified_FireplaceQu\"] = train_df.FireplaceQu.replace({1 : 1, # bad\n",
    "                                                                   2 : 1, 3 : 1, # average\n",
    "                                                                   4 : 2, 5 : 2 # good\n",
    "                                                                  })\n",
    "train_df[\"Simplified_Functional\"] = train_df.Functional.replace({1 : 1, 2 : 1, # bad\n",
    "                                                                 3 : 2, 4 : 2, # major\n",
    "                                                                 5 : 3, 6 : 3, 7 : 3, # minor\n",
    "                                                                 8 : 4 # typical\n",
    "                                                                })\n",
    "train_df[\"Simplified_KitchenQual\"] = train_df.KitchenQual.replace({1 : 1, # bad\n",
    "                                                                   2 : 1, 3 : 1, # average\n",
    "                                                                   4 : 2, 5 : 2 # good\n",
    "                                                                 })\n",
    "train_df[\"Simplified_HeatingQC\"] = train_df.HeatingQC.replace({1 : 1, # bad\n",
    "                                                               2 : 1, 3 : 1, # average\n",
    "                                                               4 : 2, 5 : 2 # good\n",
    "                                                              })\n",
    "train_df[\"Simplified_BsmtFinType1\"] = train_df.BsmtFinType1.replace({1 : 1, # unfinished\n",
    "                                                                     2 : 1, 3 : 1, # rec room\n",
    "                                                                     4 : 2, 5 : 2, 6 : 2 # living quarters\n",
    "                                                                    })\n",
    "train_df[\"Simplified_BsmtFinType2\"] = train_df.BsmtFinType2.replace({1 : 1, # unfinished\n",
    "                                                                     2 : 1, 3 : 1, # rec room\n",
    "                                                                     4 : 2, 5 : 2, 6 : 2 # living quarters\n",
    "                                                                    })\n",
    "train_df[\"Simplified_BsmtCond\"] = train_df.BsmtCond.replace({1 : 1, # bad\n",
    "                                                             2 : 1, 3 : 1, # average\n",
    "                                                             4 : 2, 5 : 2 # good\n",
    "                                                            })\n",
    "train_df[\"Simplified_BsmtQual\"] = train_df.BsmtQual.replace({1 : 1, # bad\n",
    "                                                 2 : 1, 3 : 1, # average\n",
    "                                                 4 : 2, 5 : 2 # good\n",
    "                                                })\n",
    "train_df[\"Simplified_ExterCond\"] = train_df.ExterCond.replace({1 : 1, # bad\n",
    "                                                   2 : 1, 3 : 1, # average\n",
    "                                                   4 : 2, 5 : 2 # good\n",
    "                                                  })\n",
    "train_df[\"Simplified_ExterQual\"] = train_df.ExterQual.replace({1 : 1, # bad\n",
    "                                                   2 : 1, 3 : 1, # average\n",
    "                                                   4 : 2, 5 : 2 # good\n",
    "                                                  })"
   ]
  },
  {
   "cell_type": "code",
   "execution_count": 81,
   "metadata": {},
   "outputs": [],
   "source": [
    "#combination of existing features\n",
    "#Overall Quality of the house\n",
    "train_df[\"OverallRating\"] = train_df[\"OverallQual\"]*train_df[\"OverallCond\"]\n",
    "#Overall Quality of the garage\n",
    "train_df[\"GarageRating\"] = train_df[\"GarageQual\"]*train_df[\"GarageCond\"]\n",
    "#Overall garage score\n",
    "train_df[\"GarageScore\"] = train_df[\"GarageArea\"]*train_df[\"GarageQual\"]\n",
    "#Overall Quality of the exterior\n",
    "train_df[\"ExteriorRating\"] = train_df[\"ExterQual\"]*train_df[\"ExterCond\"]\n",
    "#Overall kitchen qulity\n",
    "train_df[\"KitchenRating\"] = train_df[\"KitchenAbvGr\"]*train_df[\"KitchenQual\"]\n",
    "#Overall fireplace quality\n",
    "train_df[\"FireplaceScore\"] = train_df[\"Fireplaces\"]*train_df[\"FireplaceQu\"]\n",
    "#Overall pool quality\n",
    "train_df[\"PoolScore\"] = train_df[\"PoolArea\"]*train_df[\"PoolQC\"]\n",
    "#Overall Quality of the house\n",
    "#train_df[\"Simplified_Overall\"] = train_df[\"Simplifed_OverallRating\"] * train_df[\"Simplified_OverallCond\"]\n",
    "#Overall quality of the exterior\n",
    "train_df[\"Simplified_ExterRating\"] = train_df[\"Simplified_ExterQual\"] * train_df[\"Simplified_ExterCond\"]\n",
    "#Overall pool score\n",
    "train_df[\"Simplified_PoolScore\"] = train_df[\"PoolArea\"] * train_df[\"Simplified_PoolQC\"]\n",
    "# Simplified overall garage score\n",
    "train_df[\"Simplified_GarageScore\"] = train_df[\"GarageArea\"] * train_df[\"Simplified_GarageQual\"]\n",
    "# Simplified overall fireplace score\n",
    "train_df[\"Simpliflied_FireplaceScore\"] = train_df[\"Fireplaces\"] * train_df[\"Simplified_FireplaceQu\"]\n",
    "# Simplified overall kitchen score\n",
    "train_df[\"Simplified_KitchenScore\"] = train_df[\"KitchenAbvGr\"] * train_df[\"Simplified_KitchenQual\"]\n",
    "# Total number of bathrooms\n",
    "train_df[\"TotalBath\"] = train_df[\"BsmtFullBath\"] + (0.5 * train_df[\"BsmtHalfBath\"]) + \\\n",
    "train_df[\"FullBath\"] + (0.5 * train_df[\"HalfBath\"])\n",
    "# Total SF for house (incl. basement)\n",
    "train_df[\"AllSF\"] = train_df[\"GrLivArea\"] + train_df[\"TotalBsmtSF\"]\n",
    "# Total SF for 1st + 2nd floors\n",
    "train_df[\"AllFlrsSF\"] = train_df[\"1stFlrSF\"] + train_df[\"2ndFlrSF\"]\n",
    "# Total SF for porch\n",
    "train_df[\"AllPorchSF\"] = train_df[\"OpenPorchSF\"] + train_df[\"EnclosedPorch\"] + \\\n",
    "train_df[\"3SsnPorch\"] + train_df[\"ScreenPorch\"]\n",
    "# Has masonry veneer or not\n",
    "# train_df[\"HasMasVnr\"] = train_df.MasVnrType.replace({\"BrkCmn\" : 1, \"BrkFace\" : 1, \"CBlock\" : 1, \n",
    "#                                                \"Stone\" : 1, \"None\" : 0})\n",
    "# # House completed before sale or not\n",
    "# train_df[\"BoughtOffPlan\"] = train_df.SaleCondition.replace({\"Abnorml\" : 0, \"Alloca\" : 0, \"AdjLand\" : 0, \n",
    "#                                                       \"Family\" : 0, \"Normal\" : 0, \"Partial\" : 1})\n",
    "# Number of years old\n",
    "train_df['Years_old'] = train_df['YrSold'] - train_df['YearBuilt']\n",
    "\n",
    "train_df['YearSinceRemodel'] = train_df['YrSold'] - train_df['YearRemodAdd']\n",
    "train_df[\"AllSF\"] = train_df[\"GrLivArea\"] + train_df[\"TotalBsmtSF\"]\n",
    "#train_df['Electrical'] = train_df['Electrical'].fillna(train_df(train_df['Electrical'].mode()))\n",
    "train_df[\"AllFlrsSF\"] = train_df[\"1stFlrSF\"] + train_df[\"2ndFlrSF\"]\n"
   ]
  },
  {
   "cell_type": "code",
   "execution_count": 82,
   "metadata": {},
   "outputs": [
    {
     "data": {
      "text/plain": [
       "114"
      ]
     },
     "execution_count": 82,
     "metadata": {},
     "output_type": "execute_result"
    }
   ],
   "source": [
    "len(train_df.columns)"
   ]
  },
  {
   "cell_type": "code",
   "execution_count": 83,
   "metadata": {},
   "outputs": [
    {
     "data": {
      "text/plain": [
       "array(['Id', 'MSSubClass', 'MSZoning', 'LotFrontage', 'LotArea', 'Street',\n",
       "       'Alley', 'LotShape', 'LandContour', 'Utilities', 'LotConfig',\n",
       "       'LandSlope', 'Neighborhood', 'Condition1', 'Condition2',\n",
       "       'BldgType', 'HouseStyle', 'OverallQual', 'OverallCond',\n",
       "       'YearBuilt', 'YearRemodAdd', 'RoofStyle', 'RoofMatl',\n",
       "       'Exterior1st', 'Exterior2nd', 'MasVnrType', 'MasVnrArea',\n",
       "       'ExterQual', 'ExterCond', 'Foundation', 'BsmtQual', 'BsmtCond',\n",
       "       'BsmtExposure', 'BsmtFinType1', 'BsmtFinSF1', 'BsmtFinType2',\n",
       "       'BsmtFinSF2', 'BsmtUnfSF', 'TotalBsmtSF', 'Heating', 'HeatingQC',\n",
       "       'CentralAir', 'Electrical', '1stFlrSF', '2ndFlrSF', 'LowQualFinSF',\n",
       "       'GrLivArea', 'BsmtFullBath', 'BsmtHalfBath', 'FullBath',\n",
       "       'HalfBath', 'BedroomAbvGr', 'KitchenAbvGr', 'KitchenQual',\n",
       "       'TotRmsAbvGrd', 'Functional', 'Fireplaces', 'FireplaceQu',\n",
       "       'GarageType', 'GarageYrBlt', 'GarageFinish', 'GarageCars',\n",
       "       'GarageArea', 'GarageQual', 'GarageCond', 'PavedDrive',\n",
       "       'WoodDeckSF', 'OpenPorchSF', 'EnclosedPorch', '3SsnPorch',\n",
       "       'ScreenPorch', 'PoolArea', 'PoolQC', 'Fence', 'MiscFeature',\n",
       "       'MiscVal', 'MoSold', 'YrSold', 'SaleType', 'SaleCondition',\n",
       "       'SalePrice', 'Simplified_OverallQual', 'Simplified_OverallCond',\n",
       "       'Simplified_ExterQual', 'Simplified_PoolQC',\n",
       "       'Simplified_GarageCond', 'Simplified_GarageQual',\n",
       "       'Simplified_FireplaceQu', 'Simplified_Functional',\n",
       "       'Simplified_KitchenQual', 'Simplified_HeatingQC',\n",
       "       'Simplified_BsmtFinType1', 'Simplified_BsmtFinType2',\n",
       "       'Simplified_BsmtCond', 'Simplified_BsmtQual',\n",
       "       'Simplified_ExterCond', 'OverallRating', 'GarageRating',\n",
       "       'GarageScore', 'ExteriorRating', 'KitchenRating', 'FireplaceScore',\n",
       "       'PoolScore', 'Simplified_ExterRating', 'Simplified_PoolScore',\n",
       "       'Simplified_GarageScore', 'Simpliflied_FireplaceScore',\n",
       "       'Simplified_KitchenScore', 'TotalBath', 'AllSF', 'AllFlrsSF',\n",
       "       'AllPorchSF', 'Years_old', 'YearSinceRemodel'], dtype=object)"
      ]
     },
     "execution_count": 83,
     "metadata": {},
     "output_type": "execute_result"
    }
   ],
   "source": [
    "train_df.columns.values"
   ]
  },
  {
   "cell_type": "code",
   "execution_count": 84,
   "metadata": {},
   "outputs": [
    {
     "name": "stdout",
     "output_type": "stream",
     "text": [
      "Id                             0\n",
      "MSSubClass                     0\n",
      "MSZoning                       0\n",
      "LotFrontage                    0\n",
      "LotArea                        0\n",
      "Street                         0\n",
      "Alley                          0\n",
      "LotShape                       0\n",
      "LandContour                    0\n",
      "Utilities                      0\n",
      "LotConfig                      0\n",
      "LandSlope                      0\n",
      "Neighborhood                   0\n",
      "Condition1                     0\n",
      "Condition2                     0\n",
      "BldgType                       0\n",
      "HouseStyle                     0\n",
      "OverallQual                    0\n",
      "OverallCond                    0\n",
      "YearBuilt                      0\n",
      "YearRemodAdd                   0\n",
      "RoofStyle                      0\n",
      "RoofMatl                       0\n",
      "Exterior1st                    0\n",
      "Exterior2nd                    0\n",
      "MasVnrType                     0\n",
      "MasVnrArea                     0\n",
      "ExterQual                      0\n",
      "ExterCond                      0\n",
      "Foundation                     0\n",
      "                              ..\n",
      "Simplified_PoolQC              0\n",
      "Simplified_GarageCond         81\n",
      "Simplified_GarageQual          0\n",
      "Simplified_FireplaceQu         0\n",
      "Simplified_Functional          0\n",
      "Simplified_KitchenQual         0\n",
      "Simplified_HeatingQC           0\n",
      "Simplified_BsmtFinType1        0\n",
      "Simplified_BsmtFinType2        0\n",
      "Simplified_BsmtCond            0\n",
      "Simplified_BsmtQual            0\n",
      "Simplified_ExterCond           0\n",
      "OverallRating                  0\n",
      "GarageRating                  81\n",
      "GarageScore                    0\n",
      "ExteriorRating                 0\n",
      "KitchenRating                  0\n",
      "FireplaceScore                 0\n",
      "PoolScore                      0\n",
      "Simplified_ExterRating         0\n",
      "Simplified_PoolScore           0\n",
      "Simplified_GarageScore         0\n",
      "Simpliflied_FireplaceScore     0\n",
      "Simplified_KitchenScore        0\n",
      "TotalBath                      0\n",
      "AllSF                          0\n",
      "AllFlrsSF                      0\n",
      "AllPorchSF                     0\n",
      "Years_old                      0\n",
      "YearSinceRemodel               0\n",
      "Length: 114, dtype: int64\n"
     ]
    }
   ],
   "source": [
    "print(train_df.isnull().sum())"
   ]
  },
  {
   "cell_type": "code",
   "execution_count": 85,
   "metadata": {},
   "outputs": [],
   "source": [
    "#check the most corrolated features\n",
    "corr = train_df.corr()\n",
    "corr.sort_values(by = 'SalePrice', ascending=False, inplace=True)"
   ]
  },
  {
   "cell_type": "code",
   "execution_count": 86,
   "metadata": {},
   "outputs": [
    {
     "name": "stdout",
     "output_type": "stream",
     "text": [
      "SalePrice                  1.000000\n",
      "AllSF                      0.821091\n",
      "OverallQual                0.800858\n",
      "AllFlrsSF                  0.729888\n",
      "GrLivArea                  0.720516\n",
      "ExterQual                  0.694628\n",
      "Simplified_OverallQual     0.676212\n",
      "KitchenQual                0.666217\n",
      "GarageCars                 0.649256\n",
      "TotalBsmtSF                0.646584\n",
      "GarageScore                0.638249\n",
      "GarageArea                 0.636964\n",
      "TotalBath                  0.635939\n",
      "Simplified_ExterQual       0.626565\n",
      "1stFlrSF                   0.625235\n",
      "Simplified_GarageScore     0.616028\n",
      "ExteriorRating             0.586221\n",
      "Simplified_KitchenQual     0.582495\n",
      "OverallRating              0.566514\n",
      "FullBath                   0.559048\n",
      "TotRmsAbvGrd               0.537462\n",
      "YearBuilt                  0.535279\n",
      "YearRemodAdd               0.521428\n",
      "Simplified_KitchenScore    0.500871\n",
      "GarageYrBlt                0.499230\n",
      "Simplified_ExterRating     0.479232\n",
      "MasVnrArea                 0.473650\n",
      "Fireplaces                 0.466765\n",
      "HeatingQC                  0.435081\n",
      "KitchenRating              0.407556\n",
      "                             ...   \n",
      "BedroomAbvGr               0.160542\n",
      "ScreenPorch                0.118324\n",
      "Simplified_Functional      0.117385\n",
      "Functional                 0.109250\n",
      "Simplified_BsmtFinType2    0.076337\n",
      "MoSold                     0.056797\n",
      "3SsnPorch                  0.047414\n",
      "Street                     0.041917\n",
      "Simplified_PoolScore       0.033245\n",
      "PoolScore                  0.032876\n",
      "PoolArea                   0.032819\n",
      "Simplified_PoolQC          0.032183\n",
      "PoolQC                     0.031211\n",
      "ExterCond                  0.021999\n",
      "BsmtFinType2              -0.002734\n",
      "BsmtFinSF2                -0.008900\n",
      "MiscVal                   -0.021097\n",
      "YrSold                    -0.023694\n",
      "LowQualFinSF              -0.025351\n",
      "Id                        -0.027455\n",
      "BsmtHalfBath              -0.036792\n",
      "Simplified_ExterCond      -0.046683\n",
      "Simplified_OverallCond    -0.065715\n",
      "OverallCond               -0.080202\n",
      "MSSubClass                -0.088160\n",
      "Alley                     -0.093618\n",
      "EnclosedPorch             -0.129774\n",
      "KitchenAbvGr              -0.138849\n",
      "YearSinceRemodel          -0.523102\n",
      "Years_old                 -0.535507\n",
      "Name: SalePrice, Length: 78, dtype: float64\n"
     ]
    }
   ],
   "source": [
    "print(corr.SalePrice)"
   ]
  },
  {
   "cell_type": "code",
   "execution_count": null,
   "metadata": {},
   "outputs": [],
   "source": []
  }
 ],
 "metadata": {
  "kernelspec": {
   "display_name": "Python 3",
   "language": "python",
   "name": "python3"
  },
  "language_info": {
   "codemirror_mode": {
    "name": "ipython",
    "version": 3
   },
   "file_extension": ".py",
   "mimetype": "text/x-python",
   "name": "python",
   "nbconvert_exporter": "python",
   "pygments_lexer": "ipython3",
   "version": "3.7.3"
  }
 },
 "nbformat": 4,
 "nbformat_minor": 2
}
