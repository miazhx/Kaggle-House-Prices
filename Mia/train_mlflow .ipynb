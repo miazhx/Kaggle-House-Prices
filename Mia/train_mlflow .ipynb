{
 "cells": [
  {
   "cell_type": "markdown",
   "metadata": {},
   "source": [
    "# MLflow Training \n",
    "\n",
    "This `train.pynb` Jupyter notebook predicts the housing price using [sklearn.linear_model.ElasticNet](http://scikit-learn.org/stable/modules/generated/sklearn.linear_model.ElasticNet.html).  \n",
    "\n",
    "> This is the Jupyter notebook version of the `train.py` example\n",
    "\n",
    "Attribution\n",
    "* The MLflow code used in this module is from https://www.mlflow.org/docs/latest/tutorial.html\n"
   ]
  },
  {
   "cell_type": "code",
   "execution_count": 1,
   "metadata": {},
   "outputs": [],
   "source": [
    "# MLflow Training\n",
    "def train_elasticnet(in_alpha, in_l1_ratio):\n",
    "    import os\n",
    "    import warnings\n",
    "    import sys\n",
    "\n",
    "    import pandas as pd\n",
    "    import numpy as np\n",
    "    from sklearn.metrics import mean_squared_error, mean_absolute_error, r2_score\n",
    "    from sklearn.model_selection import train_test_split\n",
    "    from sklearn.linear_model import ElasticNet\n",
    "\n",
    "    import mlflow\n",
    "    import mlflow.sklearn\n",
    "    \n",
    "    import logging\n",
    "    logging.basicConfig(level=logging.WARN)\n",
    "    logger = logging.getLogger(__name__)\n",
    "    \n",
    "    from data_processing import data_process\n",
    "\n",
    "    def eval_metrics(actual, pred):\n",
    "        rmse = np.sqrt(mean_squared_error(actual, pred))\n",
    "        mae = mean_absolute_error(actual, pred)\n",
    "        r2 = r2_score(actual, pred)\n",
    "        return rmse, mae, r2\n",
    "\n",
    "\n",
    "    warnings.filterwarnings(\"ignore\")\n",
    "    np.random.seed(40)\n",
    "\n",
    "    # Read the file\n",
    "    try:\n",
    "        df_raw = pd.read_csv('train.csv',index_col=0)\n",
    "    except Exception as e:\n",
    "        logger.exception(\n",
    "            \"Unable to download training & test CSV, check your internet connection. Error: %s\", e)\n",
    "        \n",
    "    # Data processing.\n",
    "    df_processed = data_process(df_raw)\n",
    "    \n",
    "    # Split the data into training and test sets. (0.75, 0.25) split.\n",
    "    train, test = train_test_split(df_processed)\n",
    "\n",
    "    # The predicted column is \"SalePrice\" .\n",
    "    train_x = train.drop([\"SalePrice\"], axis=1)\n",
    "    test_x = test.drop([\"SalePrice\"], axis=1)\n",
    "    train_y = train[[\"SalePrice\"]]\n",
    "    test_y = test[[\"SalePrice\"]]\n",
    "\n",
    "    # Set default values if no alpha is provided\n",
    "    if float(in_alpha) is None:\n",
    "        alpha = 0.5\n",
    "    else:\n",
    "        alpha = float(in_alpha)\n",
    "\n",
    "    # Set default values if no l1_ratio is provided\n",
    "    if float(in_l1_ratio) is None:\n",
    "        l1_ratio = 0.5\n",
    "    else:\n",
    "        l1_ratio = float(in_l1_ratio)\n",
    "\n",
    "    # Useful for multiple runs (only doing one run in this sample notebook)    \n",
    "    with mlflow.start_run():\n",
    "        # Execute ElasticNet\n",
    "        lr = ElasticNet(alpha=alpha, l1_ratio=l1_ratio, random_state=42,normalize=False)\n",
    "        lr.fit(train_x, train_y)\n",
    "        \n",
    "        # Training Model Performances Evaluate Metrics\n",
    "#         predicted_qualities = lr.predict(test_x)\n",
    "#         (rmse, mae, r2) = eval_metrics(test_y, predicted_qualities)        \n",
    "\n",
    "        # Evaluate Metrics\n",
    "        predicted_qualities = lr.predict(test_x)\n",
    "        (rmse, mae, r2) = eval_metrics(test_y, predicted_qualities)\n",
    "\n",
    "        # Print out metrics\n",
    "        print(\"Elasticnet model (alpha=%f, l1_ratio=%f):\" % (alpha, l1_ratio))\n",
    "        print(\"  RMSE: %s\" % rmse)\n",
    "        print(\"  MAE: %s\" % mae)\n",
    "        print(\"  R2: %s\" % r2)\n",
    "\n",
    "        # Log parameter, metrics, and model to MLflow\n",
    "        mlflow.log_param(\"alpha\", alpha)\n",
    "        mlflow.log_param(\"l1_ratio\", l1_ratio)\n",
    "        mlflow.log_metric(\"rmse\", rmse)\n",
    "        mlflow.log_metric(\"train_r2\", )\n",
    "        mlflow.log_metric(\"test_r2\", r2)\n",
    "        #mlflow.log_metric(\"mae\", mae)\n",
    "\n",
    "        mlflow.sklearn.log_model(lr, \"model\")"
   ]
  },
  {
   "cell_type": "code",
   "execution_count": 2,
   "metadata": {},
   "outputs": [
    {
     "name": "stdout",
     "output_type": "stream",
     "text": [
      "Elasticnet model (alpha=0.500000, l1_ratio=0.500000):\n",
      "  RMSE: 0.1667415591913348\n",
      "  MAE: 0.11700052906806994\n",
      "  R2: 0.8105804555738432\n"
     ]
    }
   ],
   "source": [
    "train_elasticnet(0.5, 0.5)"
   ]
  },
  {
   "cell_type": "code",
   "execution_count": null,
   "metadata": {},
   "outputs": [],
   "source": [
    "train(0.2, 0.2)"
   ]
  },
  {
   "cell_type": "code",
   "execution_count": null,
   "metadata": {},
   "outputs": [],
   "source": [
    "train(0.1, 0.2)"
   ]
  },
  {
   "cell_type": "code",
   "execution_count": 3,
   "metadata": {},
   "outputs": [
    {
     "name": "stdout",
     "output_type": "stream",
     "text": [
      "Elasticnet model (alpha=0.000000, l1_ratio=0.000000):\n",
      "  RMSE: 0.13360267671922288\n",
      "  MAE: 0.08609875916333772\n",
      "  R2: 0.8783905316523007\n"
     ]
    }
   ],
   "source": [
    "train(0, 0)"
   ]
  },
  {
   "cell_type": "code",
   "execution_count": 4,
   "metadata": {},
   "outputs": [
    {
     "name": "stdout",
     "output_type": "stream",
     "text": [
      "Elasticnet model (alpha=1.000000, l1_ratio=0.000000):\n",
      "  RMSE: 0.1527007222636229\n",
      "  MAE: 0.10653422923492428\n",
      "  R2: 0.8411382824159815\n"
     ]
    }
   ],
   "source": [
    "train(1, 0)"
   ]
  },
  {
   "cell_type": "code",
   "execution_count": null,
   "metadata": {},
   "outputs": [],
   "source": [
    "# loop \n",
    "\n",
    "# alphas = np.arange(0,20)\n",
    "# ridge.set_params(normalize=True)\n",
    "# coefs  = []\n",
    "# scores = []\n",
    "# for alpha in alphas:\n",
    "#         ridge.set_params(alpha=alpha)\n",
    "#         ridge.fit(house_features, prices)  \n",
    "#         coefs.append(ridge.coef_)\n",
    "#         scores.append(ridge.score(house_features, prices))\n",
    "# coefs = pd.DataFrame(coefs, index = alphas, columns = house_features.columns)  \n",
    "# coefs.head()"
   ]
  }
 ],
 "metadata": {
  "kernelspec": {
   "display_name": "Python 3",
   "language": "python",
   "name": "python3"
  },
  "language_info": {
   "codemirror_mode": {
    "name": "ipython",
    "version": 3
   },
   "file_extension": ".py",
   "mimetype": "text/x-python",
   "name": "python",
   "nbconvert_exporter": "python",
   "pygments_lexer": "ipython3",
   "version": "3.7.3"
  }
 },
 "nbformat": 4,
 "nbformat_minor": 2
}
