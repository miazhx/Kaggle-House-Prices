{
 "cells": [
  {
   "cell_type": "code",
   "execution_count": 17,
   "metadata": {},
   "outputs": [],
   "source": [
    "import numpy as np\n",
    "import pandas as pd\n",
    "\n",
    "\n",
    "from sklearn.metrics import mean_squared_error\n",
    "from sklearn.model_selection import train_test_split\n",
    "from sklearn.linear_model import LinearRegression \n",
    "from math import sqrt\n",
    "from scipy import stats\n",
    "from scipy.stats import norm\n",
    "\n",
    "\n",
    "import matplotlib.pyplot as plt\n",
    "import matplotlib as matplotlib\n",
    "import seaborn as sns\n",
    "%matplotlib inline\n",
    "\n",
    "def data_process(df_raw,remove_outlier = False,remove_hard_to_fit = False,linear_model = False):\n",
    "\n",
    "\t# Make a copy so the original dataframe will not be altered.\n",
    "    df_processed = df_raw.copy()\n",
    "    \n",
    "    \n",
    "\t# Remove outliers.\n",
    "    outlier_list = [524, 1299, 463, 31, 534, 1433, 739, 1159, 108, 1231, 971, 1424]\n",
    "    df_processed = df_processed.drop(outlier_list)\n",
    "\n",
    "    \n",
    "    ## Missing values\n",
    "    \n",
    "    # 259 LotFrontage  - replace missing value with 0 \n",
    "    df_processed.LotFrontage = df_processed.LotFrontage.fillna(0)\n",
    "\n",
    "    # 1369 Alley - replace with None\n",
    "    df_processed.Alley = df_processed.Alley.fillna('None')\n",
    "\n",
    "    # 8 MasVnrType and MasVnrArea - replace MasVnrType with None and MasVnrArea with 0\n",
    "    df_processed.MasVnrType = df_processed.MasVnrType.fillna('None')\n",
    "    df_processed.MasVnrArea = df_processed.MasVnrArea.fillna(0)\n",
    "\n",
    "    # 37 basement: BsmtQual, BsmtCond, BsmtExposure, BsmtFinType1, BsmtFinType2- replace with Nb\n",
    "    df_processed.BsmtQual = df_processed.BsmtQual.fillna('Nb')\n",
    "    df_processed.BsmtCond = df_processed.BsmtCond.fillna('Nb')\n",
    "    df_processed.BsmtExposure = df_processed.BsmtExposure.fillna('Nb')\n",
    "    df_processed.BsmtFinType1 = df_processed.BsmtFinType1.fillna('Nb')\n",
    "    df_processed.BsmtFinType2 = df_processed.BsmtFinType2.fillna('Nb')\n",
    "    df_processed.TotalBsmtSF = df_processed.TotalBsmtSF.fillna(0)\n",
    "    \n",
    "\n",
    "    # 690 FireplaceQu - replace with Nf\n",
    "    df_processed.FireplaceQu = df_processed.FireplaceQu.fillna('Nf')\n",
    "\n",
    "    # 81 Garage: GarageType, GarageYrBlt, GarageFinish, GarageQual, GarageCond - replace with Ng and year with 0 \n",
    "    df_processed.GarageType = df_processed.GarageType.fillna('Ng')\n",
    "    df_processed.GarageFinish = df_processed.GarageFinish.fillna('Ng')\n",
    "    df_processed.GarageQual = df_processed.GarageQual.fillna('Ng')\n",
    "    df_processed.GarageCond = df_processed.GarageCond.fillna('Ng')\n",
    "    df_processed.GarageYrBlt = df_processed.GarageYrBlt.fillna(0)\n",
    "\n",
    "    # 1453 PoolQC - replace with Np\n",
    "    df_processed.PoolQC = df_processed.PoolQC.fillna('Np')\n",
    "\n",
    "    # 1179 Fence - replace with Nf\n",
    "    df_processed.Fence = df_processed.Fence.fillna('Nf')\n",
    "\n",
    "    # 1406 MiscFeature - replace with None    \n",
    "    df_processed.MiscFeature = df_processed.MiscFeature.fillna('None')\n",
    "\n",
    "    # 1 Electrical\n",
    "    df_processed = df_processed[pd.notnull(df_processed.Electrical)]\n",
    "\n",
    "    ## Combine columns and drop multicollinear columns \n",
    "    \n",
    "    # combine bathroom quanlitity \n",
    "    df_processed['BsmtBath'] = df_processed.BsmtFullBath + df_processed.BsmtHalfBath * 0.5\n",
    "    df_processed['Bath'] = df_processed.FullBath + df_processed.HalfBath * 0.5\n",
    "    df_processed = df_processed.drop(['BsmtFullBath', 'BsmtHalfBath','FullBath','HalfBath'], axis=1)\n",
    "\n",
    "    # drop TotalBsmtSF - multicollinearaty\n",
    "    #df_processed = df_processed.drop(['TotalBsmtSF'], axis=1)\n",
    "\n",
    "    # drop GrLivArea - multicollinearaty\n",
    "    #df_processed = df_processed.drop(['GrLivArea'], axis=1)\n",
    "\n",
    "    # drop GarageArea - higher correlation than GarageACars, results are better as well\n",
    "    df_processed = df_processed.drop(['GarageArea'], axis=1) \n",
    "    \n",
    "    \n",
    "\t# Feature Transformation - take the logarithm of the features.\n",
    "    #Linear_Num_Cols = ['TotalBsmtSF', '1stFlrSF', '2ndFlrSF', 'GrLivArea', 'LotArea', 'GarageArea', 'TotRmsAbvGrd', 'TotalSF', 'BsmtFinSF1']\n",
    "    df_processed.SalePrice = np.log(df_processed.SalePrice)\n",
    "    df_processed.GrLivArea = np.log(df_processed.GrLivArea)\n",
    "    df_processed.TotalBsmtSF = np.log(df_processed.TotalBsmtSF+1)\n",
    "#     df_processed.LotArea = np.log(df_processed.LotArea) -- performance decreases\n",
    "#     df_processed.GarageArea = np.log(df_processed.GarageArea)\n",
    "\n",
    "\n",
    "\n",
    "\t# Categorical Features Processsing\n",
    "\n",
    "\t# MSSubClass processing - MSSubClass 20-90 contains only duplicate information with HouseStyle and YearBuilt.\n",
    "    df_processed['MSSubClass'] = df_processed['MSSubClass'].replace(['20','30','40','45','50','60','70','75','80','85'], '0')\n",
    "\n",
    "    # Convert numerical to categorical. \n",
    "    df_processed[['MSSubClass','OverallQual','OverallCond']] = df_processed[['MSSubClass','OverallQual','OverallCond']].astype(str)\n",
    "\n",
    "    #Get Dummies \n",
    "    df_processed = pd.get_dummies(df_processed, columns=df_processed.select_dtypes(include=['object']).columns, drop_first=True)\n",
    "\n",
    "# #---Multiply features: \n",
    "#     df_processed[\"add_OverallGrade\"] = df_processed[\"OverallQual\"] * df_processed[\"OverallCond\"]\n",
    "#     df_processed[\"add_GarageGrade\"] = df_processed[\"GarageQual\"] * df_processed[\"GarageCond\"]\n",
    "#     df_processed[\"add_ExterGrade\"] = df_processed[\"ExterQual\"] * df_processed[\"ExterCond\"]\n",
    "#     df_processed[\"add_KitchenScore\"] = df_processed[\"KitchenAbvGr\"] * df_processed[\"KitchenQual\"]\n",
    "#     df_processed[\"add_FireplaceScore\"] = df_processed[\"Fireplaces\"] * df_processed[\"FireplaceQu\"]\n",
    "#     df_processed[\"add_GarageScore\"] = df_processed[\"GarageArea\"] * df_processed[\"GarageQual\"]\n",
    "#     df_processed[\"add_PoolScore\"] = df_processed[\"PoolArea\"] * df_processed[\"PoolQC\"]\n",
    "#     df_processed['add_GrLivArea*OvQual'] = df_processed['GrLivArea'] * df_processed['OverallQual']\n",
    "#     df_processed['add_QualOverall*Exter*Kitch*Bsmt*Garage'] = df_processed['OverallQual'] * df_processed['ExterQual'] * df_processed['KitchenQual'] * df_processed['BsmtQual'] * df_processed['GarageQual']\n",
    "\n",
    "\n",
    "\n",
    "    return df_processed"
   ]
  },
  {
   "cell_type": "code",
   "execution_count": 18,
   "metadata": {},
   "outputs": [
    {
     "name": "stdout",
     "output_type": "stream",
     "text": [
      "R^2 for train set: 0.959474\n",
      "--------------------------------------------------\n",
      "R^2 for test  set: 0.904363\n",
      "--------------------------------------------------\n",
      "RMSE for test  set: 0.117039\n"
     ]
    }
   ],
   "source": [
    "df_raw = pd.read_csv('train.csv',index_col=0)\n",
    "\n",
    "df_regression = data_process(df_raw)\n",
    "\n",
    "x_m = df_regression.drop([\"SalePrice\"], axis=1)\n",
    "y_m = df_regression.loc[:,'SalePrice']\n",
    "X_train, X_test, y_train, y_test = train_test_split(x_m, y_m, test_size=0.2, random_state=42)\n",
    "\n",
    "ols = LinearRegression()\n",
    "ols.fit(X_train, y_train)\n",
    "print(\"R^2 for train set: %f\" %ols.score(X_train, y_train))\n",
    "\n",
    "print('-'*50)\n",
    "\n",
    "print(\"R^2 for test  set: %f\" %ols.score(X_test, y_test))\n",
    "\n",
    "print('-'*50)\n",
    "rms = sqrt(mean_squared_error(y_test, ols.predict(X_test)))\n",
    "print(\"RMSE for test  set: %f\" %rms)"
   ]
  },
  {
   "cell_type": "code",
   "execution_count": 12,
   "metadata": {},
   "outputs": [
    {
     "name": "stdout",
     "output_type": "stream",
     "text": [
      "The mean of the errors is -0.0081\n",
      "The standard deviation of the errors is 0.1103\n",
      "Skewness: 0.250325\n",
      "Kurtosis: 3.769718\n"
     ]
    },
    {
     "data": {
      "image/png": "[encoded data removed]",
      "text/plain": [
       "<Figure size 432x288 with 1 Axes>"
      ]
     },
     "metadata": {
      "needs_background": "light"
     },
     "output_type": "display_data"
    },
    {
     "data": {
      "image/png": "[encoded data removed]",
      "text/plain": [
       "<Figure size 432x288 with 1 Axes>"
      ]
     },
     "metadata": {
      "needs_background": "light"
     },
     "output_type": "display_data"
    }
   ],
   "source": [
    "# test the assumptions \n",
    "\n",
    "error = ols.predict(X_test) - y_test\n",
    "print('The mean of the errors is %.4f' %np.mean(error))\n",
    "print('The standard deviation of the errors is %.4f' % np.std(error))\n",
    "print(\"Skewness: %f\" % error.skew())\n",
    "print(\"Kurtosis: %f\" % error.kurt())\n",
    "sns.distplot(error, fit=norm);\n",
    "fig = plt.figure()\n",
    "res = stats.probplot(error, plot=plt)\n"
   ]
  },
  {
   "cell_type": "markdown",
   "metadata": {},
   "source": [
    "High Kurtosis means there are outliers for the model which are hard to fit in the model "
   ]
  },
  {
   "cell_type": "code",
   "execution_count": 13,
   "metadata": {},
   "outputs": [
    {
     "data": {
      "text/plain": [
       "Id\n",
       "706     0.600920\n",
       "945     0.287778\n",
       "67      0.282908\n",
       "319     0.266033\n",
       "917     0.247105\n",
       "1384    0.242277\n",
       "30      0.221756\n",
       "309     0.194725\n",
       "772     0.192251\n",
       "956     0.186062\n",
       "1252    0.183445\n",
       "1174    0.182370\n",
       "274     0.177720\n",
       "384     0.175936\n",
       "342     0.170400\n",
       "243     0.166327\n",
       "262     0.163898\n",
       "596     0.146133\n",
       "1133    0.145107\n",
       "856     0.144988\n",
       "941     0.141292\n",
       "1327    0.139704\n",
       "199     0.127277\n",
       "273     0.117692\n",
       "853     0.112409\n",
       "1313    0.110865\n",
       "418     0.109927\n",
       "1356    0.105878\n",
       "250     0.104142\n",
       "1443    0.103770\n",
       "          ...   \n",
       "845    -0.139085\n",
       "353    -0.145899\n",
       "1451   -0.152687\n",
       "823    -0.152953\n",
       "211    -0.155188\n",
       "1066   -0.155242\n",
       "1047   -0.155279\n",
       "602    -0.155611\n",
       "608    -0.156044\n",
       "1235   -0.156891\n",
       "716    -0.156965\n",
       "787    -0.159195\n",
       "442    -0.159851\n",
       "166    -0.161212\n",
       "366    -0.180923\n",
       "1062   -0.209096\n",
       "1108   -0.212112\n",
       "292    -0.213630\n",
       "865    -0.217090\n",
       "943    -0.230801\n",
       "636    -0.231479\n",
       "1124   -0.236822\n",
       "899    -0.237321\n",
       "278    -0.242654\n",
       "1031   -0.254345\n",
       "1213   -0.276729\n",
       "1182   -0.284711\n",
       "489    -0.311635\n",
       "712    -0.349181\n",
       "1183   -0.425919\n",
       "Name: SalePrice, Length: 290, dtype: float64"
      ]
     },
     "execution_count": 13,
     "metadata": {},
     "output_type": "execute_result"
    }
   ],
   "source": [
    "error.sort_values(ascending=False)"
   ]
  }
 ],
 "metadata": {
  "kernelspec": {
   "display_name": "Python 3",
   "language": "python",
   "name": "python3"
  },
  "language_info": {
   "codemirror_mode": {
    "name": "ipython",
    "version": 3
   },
   "file_extension": ".py",
   "mimetype": "text/x-python",
   "name": "python",
   "nbconvert_exporter": "python",
   "pygments_lexer": "ipython3",
   "version": "3.7.3"
  }
 },
 "nbformat": 4,
 "nbformat_minor": 2
}
