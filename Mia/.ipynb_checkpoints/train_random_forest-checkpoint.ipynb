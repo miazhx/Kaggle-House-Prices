{
 "cells": [
  {
   "cell_type": "code",
   "execution_count": 7,
   "metadata": {},
   "outputs": [
    {
     "name": "stdout",
     "output_type": "stream",
     "text": [
      "Checking whether there is an H2O instance running at http://localhost:54321 . connected.\n"
     ]
    },
    {
     "data": {
      "text/html": [
       "<div style=\"overflow:auto\"><table style=\"width:50%\"><tr><td>H2O cluster uptime:</td>\n",
       "<td>1 min 48 secs</td></tr>\n",
       "<tr><td>H2O cluster timezone:</td>\n",
       "<td>America/New_York</td></tr>\n",
       "<tr><td>H2O data parsing timezone:</td>\n",
       "<td>UTC</td></tr>\n",
       "<tr><td>H2O cluster version:</td>\n",
       "<td>3.26.0.10</td></tr>\n",
       "<tr><td>H2O cluster version age:</td>\n",
       "<td>6 days </td></tr>\n",
       "<tr><td>H2O cluster name:</td>\n",
       "<td>H2O_from_python_miazh_000_kfkue3</td></tr>\n",
       "<tr><td>H2O cluster total nodes:</td>\n",
       "<td>1</td></tr>\n",
       "<tr><td>H2O cluster free memory:</td>\n",
       "<td>1.752 Gb</td></tr>\n",
       "<tr><td>H2O cluster total cores:</td>\n",
       "<td>4</td></tr>\n",
       "<tr><td>H2O cluster allowed cores:</td>\n",
       "<td>4</td></tr>\n",
       "<tr><td>H2O cluster status:</td>\n",
       "<td>locked, healthy</td></tr>\n",
       "<tr><td>H2O connection url:</td>\n",
       "<td>http://localhost:54321</td></tr>\n",
       "<tr><td>H2O connection proxy:</td>\n",
       "<td>{'http': None, 'https': None}</td></tr>\n",
       "<tr><td>H2O internal security:</td>\n",
       "<td>False</td></tr>\n",
       "<tr><td>H2O API Extensions:</td>\n",
       "<td>Amazon S3, Algos, AutoML, Core V3, TargetEncoder, Core V4</td></tr>\n",
       "<tr><td>Python version:</td>\n",
       "<td>3.7.3 final</td></tr></table></div>"
      ],
      "text/plain": [
       "--------------------------  ---------------------------------------------------------\n",
       "H2O cluster uptime:         1 min 48 secs\n",
       "H2O cluster timezone:       America/New_York\n",
       "H2O data parsing timezone:  UTC\n",
       "H2O cluster version:        3.26.0.10\n",
       "H2O cluster version age:    6 days\n",
       "H2O cluster name:           H2O_from_python_miazh_000_kfkue3\n",
       "H2O cluster total nodes:    1\n",
       "H2O cluster free memory:    1.752 Gb\n",
       "H2O cluster total cores:    4\n",
       "H2O cluster allowed cores:  4\n",
       "H2O cluster status:         locked, healthy\n",
       "H2O connection url:         http://localhost:54321\n",
       "H2O connection proxy:       {'http': None, 'https': None}\n",
       "H2O internal security:      False\n",
       "H2O API Extensions:         Amazon S3, Algos, AutoML, Core V3, TargetEncoder, Core V4\n",
       "Python version:             3.7.3 final\n",
       "--------------------------  ---------------------------------------------------------"
      ]
     },
     "metadata": {},
     "output_type": "display_data"
    }
   ],
   "source": [
    "import h2o\n",
    "import random\n",
    "import mlflow\n",
    "import mlflow.h2o\n",
    "from h2o.estimators.random_forest import H2ORandomForestEstimator\n",
    "h2o.init()\n",
    "\n",
    "#from data_processing import data_process\n",
    "\n"
   ]
  },
  {
   "cell_type": "code",
   "execution_count": 15,
   "metadata": {},
   "outputs": [
    {
     "name": "stdout",
     "output_type": "stream",
     "text": [
      "Parse progress: |█████████████████████████████████████████████████████████| 100%\n"
     ]
    },
    {
     "ename": "AttributeError",
     "evalue": "'H2OFrame' object has no attribute 'copy'",
     "output_type": "error",
     "traceback": [
      "\u001b[1;31m---------------------------------------------------------------------------\u001b[0m",
      "\u001b[1;31mAttributeError\u001b[0m                            Traceback (most recent call last)",
      "\u001b[1;32m<ipython-input-15-ef837deccc1a>\u001b[0m in \u001b[0;36m<module>\u001b[1;34m\u001b[0m\n\u001b[0;32m      1\u001b[0m \u001b[0mdf_raw\u001b[0m \u001b[1;33m=\u001b[0m \u001b[0mh2o\u001b[0m\u001b[1;33m.\u001b[0m\u001b[0mimport_file\u001b[0m\u001b[1;33m(\u001b[0m\u001b[0mpath\u001b[0m\u001b[1;33m=\u001b[0m\u001b[1;34m\"train.csv\"\u001b[0m\u001b[1;33m)\u001b[0m\u001b[1;33m\u001b[0m\u001b[1;33m\u001b[0m\u001b[0m\n\u001b[0;32m      2\u001b[0m \u001b[0mr\u001b[0m \u001b[1;33m=\u001b[0m \u001b[0mdf_raw\u001b[0m\u001b[1;33m[\u001b[0m\u001b[1;34m'SalePrice'\u001b[0m\u001b[1;33m]\u001b[0m\u001b[1;33m.\u001b[0m\u001b[0mrunif\u001b[0m\u001b[1;33m(\u001b[0m\u001b[1;33m)\u001b[0m\u001b[1;33m\u001b[0m\u001b[1;33m\u001b[0m\u001b[0m\n\u001b[1;32m----> 3\u001b[1;33m \u001b[0mtrain\u001b[0m \u001b[1;33m=\u001b[0m \u001b[0mdata_process\u001b[0m\u001b[1;33m(\u001b[0m\u001b[0mdf_raw\u001b[0m\u001b[1;33m)\u001b[0m\u001b[1;33m[\u001b[0m\u001b[0mr\u001b[0m  \u001b[1;33m<\u001b[0m \u001b[1;36m0.7\u001b[0m\u001b[1;33m]\u001b[0m\u001b[1;33m\u001b[0m\u001b[1;33m\u001b[0m\u001b[0m\n\u001b[0m\u001b[0;32m      4\u001b[0m \u001b[0mtest\u001b[0m  \u001b[1;33m=\u001b[0m \u001b[0mdata_process\u001b[0m\u001b[1;33m(\u001b[0m\u001b[0mdf_raw\u001b[0m\u001b[1;33m)\u001b[0m\u001b[1;33m[\u001b[0m\u001b[1;36m0.3\u001b[0m \u001b[1;33m<=\u001b[0m \u001b[0mr\u001b[0m\u001b[1;33m]\u001b[0m\u001b[1;33m\u001b[0m\u001b[1;33m\u001b[0m\u001b[0m\n",
      "\u001b[1;32m~\\Desktop\\Kaggle-House-Prices\\Mia\\data_processing.py\u001b[0m in \u001b[0;36mdata_process\u001b[1;34m(df_raw, remove_outlier, remove_hard_to_fit, linear_model)\u001b[0m\n\u001b[0;32m     11\u001b[0m \u001b[1;33m\u001b[0m\u001b[0m\n\u001b[0;32m     12\u001b[0m         \u001b[1;31m# Make a copy so the original dataframe will not be altered.\u001b[0m\u001b[1;33m\u001b[0m\u001b[1;33m\u001b[0m\u001b[1;33m\u001b[0m\u001b[0m\n\u001b[1;32m---> 13\u001b[1;33m     \u001b[0mdf_processed\u001b[0m \u001b[1;33m=\u001b[0m \u001b[0mdf_raw\u001b[0m\u001b[1;33m.\u001b[0m\u001b[0mcopy\u001b[0m\u001b[1;33m(\u001b[0m\u001b[1;33m)\u001b[0m\u001b[1;33m\u001b[0m\u001b[1;33m\u001b[0m\u001b[0m\n\u001b[0m\u001b[0;32m     14\u001b[0m \u001b[1;33m\u001b[0m\u001b[0m\n\u001b[0;32m     15\u001b[0m         \u001b[1;31m# Take the logarithm of the observed sales price.\u001b[0m\u001b[1;33m\u001b[0m\u001b[1;33m\u001b[0m\u001b[1;33m\u001b[0m\u001b[0m\n",
      "\u001b[1;31mAttributeError\u001b[0m: 'H2OFrame' object has no attribute 'copy'"
     ]
    }
   ],
   "source": [
    "df_raw = h2o.import_file(path=\"train.csv\")\n",
    "r = df_raw['SalePrice'].runif()\n",
    "train = data_process(df_raw)[r  < 0.7]\n",
    "test  = data_process(df_raw)[0.3 <= r]"
   ]
  },
  {
   "cell_type": "code",
   "execution_count": 14,
   "metadata": {},
   "outputs": [
    {
     "data": {
      "text/html": [
       "<table>\n",
       "<thead>\n",
       "<tr><th style=\"text-align: right;\">  Id</th><th style=\"text-align: right;\">  MSSubClass</th><th>MSZoning  </th><th style=\"text-align: right;\">  LotFrontage</th><th style=\"text-align: right;\">  LotArea</th><th>Street  </th><th>Alley  </th><th>LotShape  </th><th>LandContour  </th><th>Utilities  </th><th>LotConfig  </th><th>LandSlope  </th><th>Neighborhood  </th><th>Condition1  </th><th>Condition2  </th><th>BldgType  </th><th>HouseStyle  </th><th style=\"text-align: right;\">  OverallQual</th><th style=\"text-align: right;\">  OverallCond</th><th style=\"text-align: right;\">  YearBuilt</th><th style=\"text-align: right;\">  YearRemodAdd</th><th>RoofStyle  </th><th>RoofMatl  </th><th>Exterior1st  </th><th>Exterior2nd  </th><th>MasVnrType  </th><th style=\"text-align: right;\">  MasVnrArea</th><th>ExterQual  </th><th>ExterCond  </th><th>Foundation  </th><th>BsmtQual  </th><th>BsmtCond  </th><th>BsmtExposure  </th><th>BsmtFinType1  </th><th style=\"text-align: right;\">  BsmtFinSF1</th><th>BsmtFinType2  </th><th style=\"text-align: right;\">  BsmtFinSF2</th><th style=\"text-align: right;\">  BsmtUnfSF</th><th style=\"text-align: right;\">  TotalBsmtSF</th><th>Heating  </th><th>HeatingQC  </th><th>CentralAir  </th><th>Electrical  </th><th style=\"text-align: right;\">  1stFlrSF</th><th style=\"text-align: right;\">  2ndFlrSF</th><th style=\"text-align: right;\">  LowQualFinSF</th><th style=\"text-align: right;\">  GrLivArea</th><th style=\"text-align: right;\">  BsmtFullBath</th><th style=\"text-align: right;\">  BsmtHalfBath</th><th style=\"text-align: right;\">  FullBath</th><th style=\"text-align: right;\">  HalfBath</th><th style=\"text-align: right;\">  BedroomAbvGr</th><th style=\"text-align: right;\">  KitchenAbvGr</th><th>KitchenQual  </th><th style=\"text-align: right;\">  TotRmsAbvGrd</th><th>Functional  </th><th style=\"text-align: right;\">  Fireplaces</th><th>FireplaceQu  </th><th>GarageType  </th><th style=\"text-align: right;\">  GarageYrBlt</th><th>GarageFinish  </th><th style=\"text-align: right;\">  GarageCars</th><th style=\"text-align: right;\">  GarageArea</th><th>GarageQual  </th><th>GarageCond  </th><th>PavedDrive  </th><th style=\"text-align: right;\">  WoodDeckSF</th><th style=\"text-align: right;\">  OpenPorchSF</th><th style=\"text-align: right;\">  EnclosedPorch</th><th style=\"text-align: right;\">  3SsnPorch</th><th style=\"text-align: right;\">  ScreenPorch</th><th style=\"text-align: right;\">  PoolArea</th><th>PoolQC  </th><th>Fence  </th><th>MiscFeature  </th><th style=\"text-align: right;\">  MiscVal</th><th style=\"text-align: right;\">  MoSold</th><th style=\"text-align: right;\">  YrSold</th><th>SaleType  </th><th>SaleCondition  </th><th style=\"text-align: right;\">  SalePrice</th></tr>\n",
       "</thead>\n",
       "<tbody>\n",
       "<tr><td style=\"text-align: right;\">   1</td><td style=\"text-align: right;\">          60</td><td>RL        </td><td style=\"text-align: right;\">           65</td><td style=\"text-align: right;\">     8450</td><td>Pave    </td><td>NA     </td><td>Reg       </td><td>Lvl          </td><td>AllPub     </td><td>Inside     </td><td>Gtl        </td><td>CollgCr       </td><td>Norm        </td><td>Norm        </td><td>1Fam      </td><td>2Story      </td><td style=\"text-align: right;\">            7</td><td style=\"text-align: right;\">            5</td><td style=\"text-align: right;\">       2003</td><td style=\"text-align: right;\">          2003</td><td>Gable      </td><td>CompShg   </td><td>VinylSd      </td><td>VinylSd      </td><td>BrkFace     </td><td style=\"text-align: right;\">         196</td><td>Gd         </td><td>TA         </td><td>PConc       </td><td>Gd        </td><td>TA        </td><td>No            </td><td>GLQ           </td><td style=\"text-align: right;\">         706</td><td>Unf           </td><td style=\"text-align: right;\">           0</td><td style=\"text-align: right;\">        150</td><td style=\"text-align: right;\">          856</td><td>GasA     </td><td>Ex         </td><td>Y           </td><td>SBrkr       </td><td style=\"text-align: right;\">       856</td><td style=\"text-align: right;\">       854</td><td style=\"text-align: right;\">             0</td><td style=\"text-align: right;\">       1710</td><td style=\"text-align: right;\">             1</td><td style=\"text-align: right;\">             0</td><td style=\"text-align: right;\">         2</td><td style=\"text-align: right;\">         1</td><td style=\"text-align: right;\">             3</td><td style=\"text-align: right;\">             1</td><td>Gd           </td><td style=\"text-align: right;\">             8</td><td>Typ         </td><td style=\"text-align: right;\">           0</td><td>NA           </td><td>Attchd      </td><td style=\"text-align: right;\">         2003</td><td>RFn           </td><td style=\"text-align: right;\">           2</td><td style=\"text-align: right;\">         548</td><td>TA          </td><td>TA          </td><td>Y           </td><td style=\"text-align: right;\">           0</td><td style=\"text-align: right;\">           61</td><td style=\"text-align: right;\">              0</td><td style=\"text-align: right;\">          0</td><td style=\"text-align: right;\">            0</td><td style=\"text-align: right;\">         0</td><td>NA      </td><td>NA     </td><td>NA           </td><td style=\"text-align: right;\">        0</td><td style=\"text-align: right;\">       2</td><td style=\"text-align: right;\">    2008</td><td>WD        </td><td>Normal         </td><td style=\"text-align: right;\">     208500</td></tr>\n",
       "<tr><td style=\"text-align: right;\">   2</td><td style=\"text-align: right;\">          20</td><td>RL        </td><td style=\"text-align: right;\">           80</td><td style=\"text-align: right;\">     9600</td><td>Pave    </td><td>NA     </td><td>Reg       </td><td>Lvl          </td><td>AllPub     </td><td>FR2        </td><td>Gtl        </td><td>Veenker       </td><td>Feedr       </td><td>Norm        </td><td>1Fam      </td><td>1Story      </td><td style=\"text-align: right;\">            6</td><td style=\"text-align: right;\">            8</td><td style=\"text-align: right;\">       1976</td><td style=\"text-align: right;\">          1976</td><td>Gable      </td><td>CompShg   </td><td>MetalSd      </td><td>MetalSd      </td><td>None        </td><td style=\"text-align: right;\">           0</td><td>TA         </td><td>TA         </td><td>CBlock      </td><td>Gd        </td><td>TA        </td><td>Gd            </td><td>ALQ           </td><td style=\"text-align: right;\">         978</td><td>Unf           </td><td style=\"text-align: right;\">           0</td><td style=\"text-align: right;\">        284</td><td style=\"text-align: right;\">         1262</td><td>GasA     </td><td>Ex         </td><td>Y           </td><td>SBrkr       </td><td style=\"text-align: right;\">      1262</td><td style=\"text-align: right;\">         0</td><td style=\"text-align: right;\">             0</td><td style=\"text-align: right;\">       1262</td><td style=\"text-align: right;\">             0</td><td style=\"text-align: right;\">             1</td><td style=\"text-align: right;\">         2</td><td style=\"text-align: right;\">         0</td><td style=\"text-align: right;\">             3</td><td style=\"text-align: right;\">             1</td><td>TA           </td><td style=\"text-align: right;\">             6</td><td>Typ         </td><td style=\"text-align: right;\">           1</td><td>TA           </td><td>Attchd      </td><td style=\"text-align: right;\">         1976</td><td>RFn           </td><td style=\"text-align: right;\">           2</td><td style=\"text-align: right;\">         460</td><td>TA          </td><td>TA          </td><td>Y           </td><td style=\"text-align: right;\">         298</td><td style=\"text-align: right;\">            0</td><td style=\"text-align: right;\">              0</td><td style=\"text-align: right;\">          0</td><td style=\"text-align: right;\">            0</td><td style=\"text-align: right;\">         0</td><td>NA      </td><td>NA     </td><td>NA           </td><td style=\"text-align: right;\">        0</td><td style=\"text-align: right;\">       5</td><td style=\"text-align: right;\">    2007</td><td>WD        </td><td>Normal         </td><td style=\"text-align: right;\">     181500</td></tr>\n",
       "<tr><td style=\"text-align: right;\">   3</td><td style=\"text-align: right;\">          60</td><td>RL        </td><td style=\"text-align: right;\">           68</td><td style=\"text-align: right;\">    11250</td><td>Pave    </td><td>NA     </td><td>IR1       </td><td>Lvl          </td><td>AllPub     </td><td>Inside     </td><td>Gtl        </td><td>CollgCr       </td><td>Norm        </td><td>Norm        </td><td>1Fam      </td><td>2Story      </td><td style=\"text-align: right;\">            7</td><td style=\"text-align: right;\">            5</td><td style=\"text-align: right;\">       2001</td><td style=\"text-align: right;\">          2002</td><td>Gable      </td><td>CompShg   </td><td>VinylSd      </td><td>VinylSd      </td><td>BrkFace     </td><td style=\"text-align: right;\">         162</td><td>Gd         </td><td>TA         </td><td>PConc       </td><td>Gd        </td><td>TA        </td><td>Mn            </td><td>GLQ           </td><td style=\"text-align: right;\">         486</td><td>Unf           </td><td style=\"text-align: right;\">           0</td><td style=\"text-align: right;\">        434</td><td style=\"text-align: right;\">          920</td><td>GasA     </td><td>Ex         </td><td>Y           </td><td>SBrkr       </td><td style=\"text-align: right;\">       920</td><td style=\"text-align: right;\">       866</td><td style=\"text-align: right;\">             0</td><td style=\"text-align: right;\">       1786</td><td style=\"text-align: right;\">             1</td><td style=\"text-align: right;\">             0</td><td style=\"text-align: right;\">         2</td><td style=\"text-align: right;\">         1</td><td style=\"text-align: right;\">             3</td><td style=\"text-align: right;\">             1</td><td>Gd           </td><td style=\"text-align: right;\">             6</td><td>Typ         </td><td style=\"text-align: right;\">           1</td><td>TA           </td><td>Attchd      </td><td style=\"text-align: right;\">         2001</td><td>RFn           </td><td style=\"text-align: right;\">           2</td><td style=\"text-align: right;\">         608</td><td>TA          </td><td>TA          </td><td>Y           </td><td style=\"text-align: right;\">           0</td><td style=\"text-align: right;\">           42</td><td style=\"text-align: right;\">              0</td><td style=\"text-align: right;\">          0</td><td style=\"text-align: right;\">            0</td><td style=\"text-align: right;\">         0</td><td>NA      </td><td>NA     </td><td>NA           </td><td style=\"text-align: right;\">        0</td><td style=\"text-align: right;\">       9</td><td style=\"text-align: right;\">    2008</td><td>WD        </td><td>Normal         </td><td style=\"text-align: right;\">     223500</td></tr>\n",
       "<tr><td style=\"text-align: right;\">   4</td><td style=\"text-align: right;\">          70</td><td>RL        </td><td style=\"text-align: right;\">           60</td><td style=\"text-align: right;\">     9550</td><td>Pave    </td><td>NA     </td><td>IR1       </td><td>Lvl          </td><td>AllPub     </td><td>Corner     </td><td>Gtl        </td><td>Crawfor       </td><td>Norm        </td><td>Norm        </td><td>1Fam      </td><td>2Story      </td><td style=\"text-align: right;\">            7</td><td style=\"text-align: right;\">            5</td><td style=\"text-align: right;\">       1915</td><td style=\"text-align: right;\">          1970</td><td>Gable      </td><td>CompShg   </td><td>Wd Sdng      </td><td>Wd Shng      </td><td>None        </td><td style=\"text-align: right;\">           0</td><td>TA         </td><td>TA         </td><td>BrkTil      </td><td>TA        </td><td>Gd        </td><td>No            </td><td>ALQ           </td><td style=\"text-align: right;\">         216</td><td>Unf           </td><td style=\"text-align: right;\">           0</td><td style=\"text-align: right;\">        540</td><td style=\"text-align: right;\">          756</td><td>GasA     </td><td>Gd         </td><td>Y           </td><td>SBrkr       </td><td style=\"text-align: right;\">       961</td><td style=\"text-align: right;\">       756</td><td style=\"text-align: right;\">             0</td><td style=\"text-align: right;\">       1717</td><td style=\"text-align: right;\">             1</td><td style=\"text-align: right;\">             0</td><td style=\"text-align: right;\">         1</td><td style=\"text-align: right;\">         0</td><td style=\"text-align: right;\">             3</td><td style=\"text-align: right;\">             1</td><td>Gd           </td><td style=\"text-align: right;\">             7</td><td>Typ         </td><td style=\"text-align: right;\">           1</td><td>Gd           </td><td>Detchd      </td><td style=\"text-align: right;\">         1998</td><td>Unf           </td><td style=\"text-align: right;\">           3</td><td style=\"text-align: right;\">         642</td><td>TA          </td><td>TA          </td><td>Y           </td><td style=\"text-align: right;\">           0</td><td style=\"text-align: right;\">           35</td><td style=\"text-align: right;\">            272</td><td style=\"text-align: right;\">          0</td><td style=\"text-align: right;\">            0</td><td style=\"text-align: right;\">         0</td><td>NA      </td><td>NA     </td><td>NA           </td><td style=\"text-align: right;\">        0</td><td style=\"text-align: right;\">       2</td><td style=\"text-align: right;\">    2006</td><td>WD        </td><td>Abnorml        </td><td style=\"text-align: right;\">     140000</td></tr>\n",
       "<tr><td style=\"text-align: right;\">   5</td><td style=\"text-align: right;\">          60</td><td>RL        </td><td style=\"text-align: right;\">           84</td><td style=\"text-align: right;\">    14260</td><td>Pave    </td><td>NA     </td><td>IR1       </td><td>Lvl          </td><td>AllPub     </td><td>FR2        </td><td>Gtl        </td><td>NoRidge       </td><td>Norm        </td><td>Norm        </td><td>1Fam      </td><td>2Story      </td><td style=\"text-align: right;\">            8</td><td style=\"text-align: right;\">            5</td><td style=\"text-align: right;\">       2000</td><td style=\"text-align: right;\">          2000</td><td>Gable      </td><td>CompShg   </td><td>VinylSd      </td><td>VinylSd      </td><td>BrkFace     </td><td style=\"text-align: right;\">         350</td><td>Gd         </td><td>TA         </td><td>PConc       </td><td>Gd        </td><td>TA        </td><td>Av            </td><td>GLQ           </td><td style=\"text-align: right;\">         655</td><td>Unf           </td><td style=\"text-align: right;\">           0</td><td style=\"text-align: right;\">        490</td><td style=\"text-align: right;\">         1145</td><td>GasA     </td><td>Ex         </td><td>Y           </td><td>SBrkr       </td><td style=\"text-align: right;\">      1145</td><td style=\"text-align: right;\">      1053</td><td style=\"text-align: right;\">             0</td><td style=\"text-align: right;\">       2198</td><td style=\"text-align: right;\">             1</td><td style=\"text-align: right;\">             0</td><td style=\"text-align: right;\">         2</td><td style=\"text-align: right;\">         1</td><td style=\"text-align: right;\">             4</td><td style=\"text-align: right;\">             1</td><td>Gd           </td><td style=\"text-align: right;\">             9</td><td>Typ         </td><td style=\"text-align: right;\">           1</td><td>TA           </td><td>Attchd      </td><td style=\"text-align: right;\">         2000</td><td>RFn           </td><td style=\"text-align: right;\">           3</td><td style=\"text-align: right;\">         836</td><td>TA          </td><td>TA          </td><td>Y           </td><td style=\"text-align: right;\">         192</td><td style=\"text-align: right;\">           84</td><td style=\"text-align: right;\">              0</td><td style=\"text-align: right;\">          0</td><td style=\"text-align: right;\">            0</td><td style=\"text-align: right;\">         0</td><td>NA      </td><td>NA     </td><td>NA           </td><td style=\"text-align: right;\">        0</td><td style=\"text-align: right;\">      12</td><td style=\"text-align: right;\">    2008</td><td>WD        </td><td>Normal         </td><td style=\"text-align: right;\">     250000</td></tr>\n",
       "<tr><td style=\"text-align: right;\">   6</td><td style=\"text-align: right;\">          50</td><td>RL        </td><td style=\"text-align: right;\">           85</td><td style=\"text-align: right;\">    14115</td><td>Pave    </td><td>NA     </td><td>IR1       </td><td>Lvl          </td><td>AllPub     </td><td>Inside     </td><td>Gtl        </td><td>Mitchel       </td><td>Norm        </td><td>Norm        </td><td>1Fam      </td><td>1.5Fin      </td><td style=\"text-align: right;\">            5</td><td style=\"text-align: right;\">            5</td><td style=\"text-align: right;\">       1993</td><td style=\"text-align: right;\">          1995</td><td>Gable      </td><td>CompShg   </td><td>VinylSd      </td><td>VinylSd      </td><td>None        </td><td style=\"text-align: right;\">           0</td><td>TA         </td><td>TA         </td><td>Wood        </td><td>Gd        </td><td>TA        </td><td>No            </td><td>GLQ           </td><td style=\"text-align: right;\">         732</td><td>Unf           </td><td style=\"text-align: right;\">           0</td><td style=\"text-align: right;\">         64</td><td style=\"text-align: right;\">          796</td><td>GasA     </td><td>Ex         </td><td>Y           </td><td>SBrkr       </td><td style=\"text-align: right;\">       796</td><td style=\"text-align: right;\">       566</td><td style=\"text-align: right;\">             0</td><td style=\"text-align: right;\">       1362</td><td style=\"text-align: right;\">             1</td><td style=\"text-align: right;\">             0</td><td style=\"text-align: right;\">         1</td><td style=\"text-align: right;\">         1</td><td style=\"text-align: right;\">             1</td><td style=\"text-align: right;\">             1</td><td>TA           </td><td style=\"text-align: right;\">             5</td><td>Typ         </td><td style=\"text-align: right;\">           0</td><td>NA           </td><td>Attchd      </td><td style=\"text-align: right;\">         1993</td><td>Unf           </td><td style=\"text-align: right;\">           2</td><td style=\"text-align: right;\">         480</td><td>TA          </td><td>TA          </td><td>Y           </td><td style=\"text-align: right;\">          40</td><td style=\"text-align: right;\">           30</td><td style=\"text-align: right;\">              0</td><td style=\"text-align: right;\">        320</td><td style=\"text-align: right;\">            0</td><td style=\"text-align: right;\">         0</td><td>NA      </td><td>MnPrv  </td><td>Shed         </td><td style=\"text-align: right;\">      700</td><td style=\"text-align: right;\">      10</td><td style=\"text-align: right;\">    2009</td><td>WD        </td><td>Normal         </td><td style=\"text-align: right;\">     143000</td></tr>\n",
       "<tr><td style=\"text-align: right;\">   8</td><td style=\"text-align: right;\">          60</td><td>RL        </td><td style=\"text-align: right;\">          nan</td><td style=\"text-align: right;\">    10382</td><td>Pave    </td><td>NA     </td><td>IR1       </td><td>Lvl          </td><td>AllPub     </td><td>Corner     </td><td>Gtl        </td><td>NWAmes        </td><td>PosN        </td><td>Norm        </td><td>1Fam      </td><td>2Story      </td><td style=\"text-align: right;\">            7</td><td style=\"text-align: right;\">            6</td><td style=\"text-align: right;\">       1973</td><td style=\"text-align: right;\">          1973</td><td>Gable      </td><td>CompShg   </td><td>HdBoard      </td><td>HdBoard      </td><td>Stone       </td><td style=\"text-align: right;\">         240</td><td>TA         </td><td>TA         </td><td>CBlock      </td><td>Gd        </td><td>TA        </td><td>Mn            </td><td>ALQ           </td><td style=\"text-align: right;\">         859</td><td>BLQ           </td><td style=\"text-align: right;\">          32</td><td style=\"text-align: right;\">        216</td><td style=\"text-align: right;\">         1107</td><td>GasA     </td><td>Ex         </td><td>Y           </td><td>SBrkr       </td><td style=\"text-align: right;\">      1107</td><td style=\"text-align: right;\">       983</td><td style=\"text-align: right;\">             0</td><td style=\"text-align: right;\">       2090</td><td style=\"text-align: right;\">             1</td><td style=\"text-align: right;\">             0</td><td style=\"text-align: right;\">         2</td><td style=\"text-align: right;\">         1</td><td style=\"text-align: right;\">             3</td><td style=\"text-align: right;\">             1</td><td>TA           </td><td style=\"text-align: right;\">             7</td><td>Typ         </td><td style=\"text-align: right;\">           2</td><td>TA           </td><td>Attchd      </td><td style=\"text-align: right;\">         1973</td><td>RFn           </td><td style=\"text-align: right;\">           2</td><td style=\"text-align: right;\">         484</td><td>TA          </td><td>TA          </td><td>Y           </td><td style=\"text-align: right;\">         235</td><td style=\"text-align: right;\">          204</td><td style=\"text-align: right;\">            228</td><td style=\"text-align: right;\">          0</td><td style=\"text-align: right;\">            0</td><td style=\"text-align: right;\">         0</td><td>NA      </td><td>NA     </td><td>Shed         </td><td style=\"text-align: right;\">      350</td><td style=\"text-align: right;\">      11</td><td style=\"text-align: right;\">    2009</td><td>WD        </td><td>Normal         </td><td style=\"text-align: right;\">     200000</td></tr>\n",
       "<tr><td style=\"text-align: right;\">   9</td><td style=\"text-align: right;\">          50</td><td>RM        </td><td style=\"text-align: right;\">           51</td><td style=\"text-align: right;\">     6120</td><td>Pave    </td><td>NA     </td><td>Reg       </td><td>Lvl          </td><td>AllPub     </td><td>Inside     </td><td>Gtl        </td><td>OldTown       </td><td>Artery      </td><td>Norm        </td><td>1Fam      </td><td>1.5Fin      </td><td style=\"text-align: right;\">            7</td><td style=\"text-align: right;\">            5</td><td style=\"text-align: right;\">       1931</td><td style=\"text-align: right;\">          1950</td><td>Gable      </td><td>CompShg   </td><td>BrkFace      </td><td>Wd Shng      </td><td>None        </td><td style=\"text-align: right;\">           0</td><td>TA         </td><td>TA         </td><td>BrkTil      </td><td>TA        </td><td>TA        </td><td>No            </td><td>Unf           </td><td style=\"text-align: right;\">           0</td><td>Unf           </td><td style=\"text-align: right;\">           0</td><td style=\"text-align: right;\">        952</td><td style=\"text-align: right;\">          952</td><td>GasA     </td><td>Gd         </td><td>Y           </td><td>FuseF       </td><td style=\"text-align: right;\">      1022</td><td style=\"text-align: right;\">       752</td><td style=\"text-align: right;\">             0</td><td style=\"text-align: right;\">       1774</td><td style=\"text-align: right;\">             0</td><td style=\"text-align: right;\">             0</td><td style=\"text-align: right;\">         2</td><td style=\"text-align: right;\">         0</td><td style=\"text-align: right;\">             2</td><td style=\"text-align: right;\">             2</td><td>TA           </td><td style=\"text-align: right;\">             8</td><td>Min1        </td><td style=\"text-align: right;\">           2</td><td>TA           </td><td>Detchd      </td><td style=\"text-align: right;\">         1931</td><td>Unf           </td><td style=\"text-align: right;\">           2</td><td style=\"text-align: right;\">         468</td><td>Fa          </td><td>TA          </td><td>Y           </td><td style=\"text-align: right;\">          90</td><td style=\"text-align: right;\">            0</td><td style=\"text-align: right;\">            205</td><td style=\"text-align: right;\">          0</td><td style=\"text-align: right;\">            0</td><td style=\"text-align: right;\">         0</td><td>NA      </td><td>NA     </td><td>NA           </td><td style=\"text-align: right;\">        0</td><td style=\"text-align: right;\">       4</td><td style=\"text-align: right;\">    2008</td><td>WD        </td><td>Abnorml        </td><td style=\"text-align: right;\">     129900</td></tr>\n",
       "<tr><td style=\"text-align: right;\">  10</td><td style=\"text-align: right;\">         190</td><td>RL        </td><td style=\"text-align: right;\">           50</td><td style=\"text-align: right;\">     7420</td><td>Pave    </td><td>NA     </td><td>Reg       </td><td>Lvl          </td><td>AllPub     </td><td>Corner     </td><td>Gtl        </td><td>BrkSide       </td><td>Artery      </td><td>Artery      </td><td>2fmCon    </td><td>1.5Unf      </td><td style=\"text-align: right;\">            5</td><td style=\"text-align: right;\">            6</td><td style=\"text-align: right;\">       1939</td><td style=\"text-align: right;\">          1950</td><td>Gable      </td><td>CompShg   </td><td>MetalSd      </td><td>MetalSd      </td><td>None        </td><td style=\"text-align: right;\">           0</td><td>TA         </td><td>TA         </td><td>BrkTil      </td><td>TA        </td><td>TA        </td><td>No            </td><td>GLQ           </td><td style=\"text-align: right;\">         851</td><td>Unf           </td><td style=\"text-align: right;\">           0</td><td style=\"text-align: right;\">        140</td><td style=\"text-align: right;\">          991</td><td>GasA     </td><td>Ex         </td><td>Y           </td><td>SBrkr       </td><td style=\"text-align: right;\">      1077</td><td style=\"text-align: right;\">         0</td><td style=\"text-align: right;\">             0</td><td style=\"text-align: right;\">       1077</td><td style=\"text-align: right;\">             1</td><td style=\"text-align: right;\">             0</td><td style=\"text-align: right;\">         1</td><td style=\"text-align: right;\">         0</td><td style=\"text-align: right;\">             2</td><td style=\"text-align: right;\">             2</td><td>TA           </td><td style=\"text-align: right;\">             5</td><td>Typ         </td><td style=\"text-align: right;\">           2</td><td>TA           </td><td>Attchd      </td><td style=\"text-align: right;\">         1939</td><td>RFn           </td><td style=\"text-align: right;\">           1</td><td style=\"text-align: right;\">         205</td><td>Gd          </td><td>TA          </td><td>Y           </td><td style=\"text-align: right;\">           0</td><td style=\"text-align: right;\">            4</td><td style=\"text-align: right;\">              0</td><td style=\"text-align: right;\">          0</td><td style=\"text-align: right;\">            0</td><td style=\"text-align: right;\">         0</td><td>NA      </td><td>NA     </td><td>NA           </td><td style=\"text-align: right;\">        0</td><td style=\"text-align: right;\">       1</td><td style=\"text-align: right;\">    2008</td><td>WD        </td><td>Normal         </td><td style=\"text-align: right;\">     118000</td></tr>\n",
       "<tr><td style=\"text-align: right;\">  11</td><td style=\"text-align: right;\">          20</td><td>RL        </td><td style=\"text-align: right;\">           70</td><td style=\"text-align: right;\">    11200</td><td>Pave    </td><td>NA     </td><td>Reg       </td><td>Lvl          </td><td>AllPub     </td><td>Inside     </td><td>Gtl        </td><td>Sawyer        </td><td>Norm        </td><td>Norm        </td><td>1Fam      </td><td>1Story      </td><td style=\"text-align: right;\">            5</td><td style=\"text-align: right;\">            5</td><td style=\"text-align: right;\">       1965</td><td style=\"text-align: right;\">          1965</td><td>Hip        </td><td>CompShg   </td><td>HdBoard      </td><td>HdBoard      </td><td>None        </td><td style=\"text-align: right;\">           0</td><td>TA         </td><td>TA         </td><td>CBlock      </td><td>TA        </td><td>TA        </td><td>No            </td><td>Rec           </td><td style=\"text-align: right;\">         906</td><td>Unf           </td><td style=\"text-align: right;\">           0</td><td style=\"text-align: right;\">        134</td><td style=\"text-align: right;\">         1040</td><td>GasA     </td><td>Ex         </td><td>Y           </td><td>SBrkr       </td><td style=\"text-align: right;\">      1040</td><td style=\"text-align: right;\">         0</td><td style=\"text-align: right;\">             0</td><td style=\"text-align: right;\">       1040</td><td style=\"text-align: right;\">             1</td><td style=\"text-align: right;\">             0</td><td style=\"text-align: right;\">         1</td><td style=\"text-align: right;\">         0</td><td style=\"text-align: right;\">             3</td><td style=\"text-align: right;\">             1</td><td>TA           </td><td style=\"text-align: right;\">             5</td><td>Typ         </td><td style=\"text-align: right;\">           0</td><td>NA           </td><td>Detchd      </td><td style=\"text-align: right;\">         1965</td><td>Unf           </td><td style=\"text-align: right;\">           1</td><td style=\"text-align: right;\">         384</td><td>TA          </td><td>TA          </td><td>Y           </td><td style=\"text-align: right;\">           0</td><td style=\"text-align: right;\">            0</td><td style=\"text-align: right;\">              0</td><td style=\"text-align: right;\">          0</td><td style=\"text-align: right;\">            0</td><td style=\"text-align: right;\">         0</td><td>NA      </td><td>NA     </td><td>NA           </td><td style=\"text-align: right;\">        0</td><td style=\"text-align: right;\">       2</td><td style=\"text-align: right;\">    2008</td><td>WD        </td><td>Normal         </td><td style=\"text-align: right;\">     129500</td></tr>\n",
       "</tbody>\n",
       "</table>"
      ]
     },
     "metadata": {},
     "output_type": "display_data"
    },
    {
     "data": {
      "text/plain": []
     },
     "execution_count": 14,
     "metadata": {},
     "output_type": "execute_result"
    }
   ],
   "source": [
    "train "
   ]
  },
  {
   "cell_type": "code",
   "execution_count": 12,
   "metadata": {},
   "outputs": [],
   "source": [
    "def train_random_forest(ntrees):\n",
    "    with mlflow.start_run():\n",
    "        rf = H2ORandomForestEstimator(ntrees=ntrees)\n",
    "        train_cols = [n for n in df_raw.col_names if n != \"SalePrice\"]\n",
    "        rf.train(train_cols, \"SalePrice\", training_frame=train, validation_frame=test)\n",
    "        \n",
    "        mlflow.log_param(\"ntrees\", ntrees)\n",
    "        \n",
    "        mlflow.log_metric(\"rmse\", rf.rmse())\n",
    "        mlflow.log_metric(\"r2\", rf.r2())\n",
    "        mlflow.log_metric(\"mae\", rf.mae())\n",
    "        \n",
    "        mlflow.h2o.log_model(rf, \"model\")"
   ]
  },
  {
   "cell_type": "code",
   "execution_count": 13,
   "metadata": {},
   "outputs": [
    {
     "name": "stdout",
     "output_type": "stream",
     "text": [
      "drf Model Build progress: |███████████████████████████████████████████████| 100%\n",
      "drf Model Build progress: |███████████████████████████████████████████████| 100%\n",
      "drf Model Build progress: |███████████████████████████████████████████████| 100%\n",
      "drf Model Build progress: |███████████████████████████████████████████████| 100%\n",
      "drf Model Build progress: |███████████████████████████████████████████████| 100%\n"
     ]
    }
   ],
   "source": [
    "for ntrees in [10, 20, 50, 100, 200]:\n",
    "    train_random_forest(ntrees)"
   ]
  },
  {
   "cell_type": "code",
   "execution_count": null,
   "metadata": {},
   "outputs": [],
   "source": [
    "import yaml"
   ]
  },
  {
   "cell_type": "code",
   "execution_count": null,
   "metadata": {},
   "outputs": [],
   "source": [
    "yaml.safe_dump"
   ]
  }
 ],
 "metadata": {
  "kernelspec": {
   "display_name": "Python 3",
   "language": "python",
   "name": "python3"
  },
  "language_info": {
   "codemirror_mode": {
    "name": "ipython",
    "version": 3
   },
   "file_extension": ".py",
   "mimetype": "text/x-python",
   "name": "python",
   "nbconvert_exporter": "python",
   "pygments_lexer": "ipython3",
   "version": "3.7.3"
  }
 },
 "nbformat": 4,
 "nbformat_minor": 2
}
