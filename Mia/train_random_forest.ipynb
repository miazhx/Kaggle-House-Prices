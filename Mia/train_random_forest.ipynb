{
 "cells": [
  {
   "cell_type": "code",
   "execution_count": 104,
   "metadata": {},
   "outputs": [],
   "source": [
    "import h2o\n",
    "import random\n",
    "import mlflow\n",
    "import mlflow.h2o\n",
    "from h2o.estimators.random_forest import H2ORandomForestEstimator\n"
   ]
  },
  {
   "cell_type": "code",
   "execution_count": 105,
   "metadata": {},
   "outputs": [],
   "source": [
    "import numpy as np\n",
    "import pandas as pd\n",
    "\n",
    "df_raw = pd.read_csv('train.csv')"
   ]
  },
  {
   "cell_type": "code",
   "execution_count": 106,
   "metadata": {},
   "outputs": [],
   "source": [
    "def data_process(df_raw,remove_outlier = False,remove_hard_to_fit = False,linear_model = False):\n",
    "\n",
    "\t# Make a copy so the original dataframe will not be altered.\n",
    "    df_processed = df_raw.copy()\n",
    "\n",
    "\t# Feature Transformation - take the logarithm of the features to meet normality assumptions.\n",
    "    df_processed.SalePrice = np.log(df_processed.SalePrice)\n",
    "    df_processed.GrLivArea = np.log(df_processed.GrLivArea)\n",
    "    \n",
    "\t# Remove outliers.\n",
    "    outlier_list = [524, 1299]\n",
    "    df_processed = df_processed.drop(outlier_list)\n",
    "\n",
    "    ## Missing values\n",
    "    \n",
    "    # 259 LotFrontage  - replace missing value with 0 \n",
    "#     df_processed.LotFrontage = df_processed.LotFrontage.fillna(0)\n",
    "\n",
    "    # 1369 Alley - replace with None\n",
    "#     df_processed.Alley = df_processed.Alley.fillna('None')\n",
    "\n",
    "    # 8 MasVnrType and MasVnrArea - replace MasVnrType with None and MasVnrArea with 0\n",
    "#     df_processed.MasVnrType = df_processed.MasVnrType.fillna('None')\n",
    "#     df_processed.MasVnrArea = df_processed.MasVnrArea.fillna(0)\n",
    "\n",
    "    # 37 basement: BsmtQual, BsmtCond, BsmtExposure, BsmtFinType1, BsmtFinType2- replace with Nb\n",
    "#     df_processed.BsmtQual = df_processed.BsmtQual.fillna('Nb')\n",
    "#     df_processed.BsmtCond = df_processed.BsmtCond.fillna('Nb')\n",
    "#     df_processed.BsmtExposure = df_processed.BsmtExposure.fillna('Nb')\n",
    "#     df_processed.BsmtFinType1 = df_processed.BsmtFinType1.fillna('Nb')\n",
    "#     df_processed.BsmtFinType2 = df_processed.BsmtFinType2.fillna('Nb')\n",
    "\n",
    "    # 690 FireplaceQu - replace with Nf\n",
    "#     df_processed.FireplaceQu = df_processed.FireplaceQu.fillna('Nf')\n",
    "\n",
    "    # 81 Garage: GarageType, GarageYrBlt, GarageFinish, GarageQual, GarageCond - replace with Ng and year with 0 \n",
    "#     df_processed.GarageType = df_processed.GarageType.fillna('Ng')\n",
    "#     df_processed.GarageFinish = df_processed.GarageFinish.fillna('Ng')\n",
    "#     df_processed.GarageQual = df_processed.GarageQual.fillna('Ng')\n",
    "#     df_processed.GarageCond = df_processed.GarageCond.fillna('Ng')\n",
    "#     df_processed.GarageYrBlt = df_processed.GarageYrBlt.fillna(0)\n",
    "\n",
    "    # 1453 PoolQC - replace with Np\n",
    "#     df_processed.PoolQC = df_processed.PoolQC.fillna('Np')\n",
    "\n",
    "    # 1179 Fence - replace with Nf\n",
    "#     df_processed.Fence = df_processed.Fence.fillna('Nf')\n",
    "\n",
    "    # 1406 MiscFeature - replace with None    \n",
    "#     df_processed.MiscFeature = df_processed.MiscFeature.fillna('None')\n",
    "\n",
    "    # 1 Electrical\n",
    "#     df_processed = df_processed[pd.notnull(df_processed.Electrical)]\n",
    "\n",
    "    ## Combine columns and drop multicollinear columns \n",
    "    \n",
    "    # combine bathroom quanlitity \n",
    "    df_processed['BsmtBath'] = df_processed.BsmtFullBath + df_processed.BsmtHalfBath * 0.5\n",
    "    df_processed['Bath'] = df_processed.FullBath + df_processed.HalfBath * 0.5\n",
    "    df_processed = df_processed.drop(['BsmtFullBath', 'BsmtHalfBath','FullBath','HalfBath'], axis=1)\n",
    "\n",
    "    # drop TotalBsmtSF - multicollinearaty\n",
    "    #df_processed = df_processed.drop(['TotalBsmtSF'], axis=1)\n",
    "\n",
    "    # drop GrLivArea - multicollinearaty\n",
    "    #df_processed = df_processed.drop(['GrLivArea'], axis=1)\n",
    "\n",
    "    # drop GarageArea - higher correlation than GarageACars, results are better as well\n",
    "    #df_processed = df_processed.drop(['GarageArea'], axis=1) \n",
    "    \n",
    "    \n",
    "    # drop Id\n",
    "    df_processed = df_processed.drop(['Id'], axis=1)\n",
    "\n",
    "\t# Categorical Features Processsing\n",
    "\n",
    "\t# MSSubClass processing - MSSubClass 20-90 contains only duplicate information with HouseStyle and YearBuilt.\n",
    "    #df_processed['MSSubClass'] = df_processed['MSSubClass'].replace(['20','30','40','45','50','60','70','75','80','85'], '0')\n",
    "\n",
    "    # Convert numerical to categorical. \n",
    "    #df_processed[['MSSubClass','OverallQual','OverallCond']] = df_processed[['MSSubClass','OverallQual','OverallCond']].astype(str)\n",
    "\n",
    "\n",
    "\n",
    "    return df_processed.to_csv('processed_rf.csv')"
   ]
  },
  {
   "cell_type": "code",
   "execution_count": 107,
   "metadata": {},
   "outputs": [],
   "source": [
    "data_process(df_raw)"
   ]
  },
  {
   "cell_type": "code",
   "execution_count": 108,
   "metadata": {},
   "outputs": [
    {
     "name": "stdout",
     "output_type": "stream",
     "text": [
      "Parse progress: |█████████████████████████████████████████████████████████| 100%\n"
     ]
    }
   ],
   "source": [
    "df_rf = h2o.import_file(path=\"processed_rf.csv\")"
   ]
  },
  {
   "cell_type": "code",
   "execution_count": 109,
   "metadata": {},
   "outputs": [],
   "source": [
    "r = df_rf['SalePrice'].runif()\n",
    "train = df_rf[r  < 0.7]\n",
    "test  = df_rf[0.3 <= r]"
   ]
  },
  {
   "cell_type": "code",
   "execution_count": 110,
   "metadata": {},
   "outputs": [
    {
     "data": {
      "text/html": [
       "<table>\n",
       "<thead>\n",
       "<tr><th style=\"text-align: right;\">  C1</th><th style=\"text-align: right;\">  MSSubClass</th><th>MSZoning  </th><th style=\"text-align: right;\">  LotFrontage</th><th style=\"text-align: right;\">  LotArea</th><th>Street  </th><th>Alley  </th><th>LotShape  </th><th>LandContour  </th><th>Utilities  </th><th>LotConfig  </th><th>LandSlope  </th><th>Neighborhood  </th><th>Condition1  </th><th>Condition2  </th><th>BldgType  </th><th>HouseStyle  </th><th style=\"text-align: right;\">  OverallQual</th><th style=\"text-align: right;\">  OverallCond</th><th style=\"text-align: right;\">  YearBuilt</th><th style=\"text-align: right;\">  YearRemodAdd</th><th>RoofStyle  </th><th>RoofMatl  </th><th>Exterior1st  </th><th>Exterior2nd  </th><th>MasVnrType  </th><th style=\"text-align: right;\">  MasVnrArea</th><th>ExterQual  </th><th>ExterCond  </th><th>Foundation  </th><th>BsmtQual  </th><th>BsmtCond  </th><th>BsmtExposure  </th><th>BsmtFinType1  </th><th style=\"text-align: right;\">  BsmtFinSF1</th><th>BsmtFinType2  </th><th style=\"text-align: right;\">  BsmtFinSF2</th><th style=\"text-align: right;\">  BsmtUnfSF</th><th style=\"text-align: right;\">  TotalBsmtSF</th><th>Heating  </th><th>HeatingQC  </th><th>CentralAir  </th><th>Electrical  </th><th style=\"text-align: right;\">  1stFlrSF</th><th style=\"text-align: right;\">  2ndFlrSF</th><th style=\"text-align: right;\">  LowQualFinSF</th><th style=\"text-align: right;\">  GrLivArea</th><th style=\"text-align: right;\">  BedroomAbvGr</th><th style=\"text-align: right;\">  KitchenAbvGr</th><th>KitchenQual  </th><th style=\"text-align: right;\">  TotRmsAbvGrd</th><th>Functional  </th><th style=\"text-align: right;\">  Fireplaces</th><th>FireplaceQu  </th><th>GarageType  </th><th style=\"text-align: right;\">  GarageYrBlt</th><th>GarageFinish  </th><th style=\"text-align: right;\">  GarageCars</th><th style=\"text-align: right;\">  GarageArea</th><th>GarageQual  </th><th>GarageCond  </th><th>PavedDrive  </th><th style=\"text-align: right;\">  WoodDeckSF</th><th style=\"text-align: right;\">  OpenPorchSF</th><th style=\"text-align: right;\">  EnclosedPorch</th><th style=\"text-align: right;\">  3SsnPorch</th><th style=\"text-align: right;\">  ScreenPorch</th><th style=\"text-align: right;\">  PoolArea</th><th>PoolQC  </th><th>Fence  </th><th>MiscFeature  </th><th style=\"text-align: right;\">  MiscVal</th><th style=\"text-align: right;\">  MoSold</th><th style=\"text-align: right;\">  YrSold</th><th>SaleType  </th><th>SaleCondition  </th><th style=\"text-align: right;\">  SalePrice</th><th style=\"text-align: right;\">  BsmtBath</th><th style=\"text-align: right;\">  Bath</th></tr>\n",
       "</thead>\n",
       "<tbody>\n",
       "<tr><td style=\"text-align: right;\">   3</td><td style=\"text-align: right;\">          70</td><td>RL        </td><td style=\"text-align: right;\">           60</td><td style=\"text-align: right;\">     9550</td><td>Pave    </td><td>       </td><td>IR1       </td><td>Lvl          </td><td>AllPub     </td><td>Corner     </td><td>Gtl        </td><td>Crawfor       </td><td>Norm        </td><td>Norm        </td><td>1Fam      </td><td>2Story      </td><td style=\"text-align: right;\">            7</td><td style=\"text-align: right;\">            5</td><td style=\"text-align: right;\">       1915</td><td style=\"text-align: right;\">          1970</td><td>Gable      </td><td>CompShg   </td><td>Wd Sdng      </td><td>Wd Shng      </td><td>None        </td><td style=\"text-align: right;\">           0</td><td>TA         </td><td>TA         </td><td>BrkTil      </td><td>TA        </td><td>Gd        </td><td>No            </td><td>ALQ           </td><td style=\"text-align: right;\">         216</td><td>Unf           </td><td style=\"text-align: right;\">           0</td><td style=\"text-align: right;\">        540</td><td style=\"text-align: right;\">          756</td><td>GasA     </td><td>Gd         </td><td>Y           </td><td>SBrkr       </td><td style=\"text-align: right;\">       961</td><td style=\"text-align: right;\">       756</td><td style=\"text-align: right;\">             0</td><td style=\"text-align: right;\">    7.44833</td><td style=\"text-align: right;\">             3</td><td style=\"text-align: right;\">             1</td><td>Gd           </td><td style=\"text-align: right;\">             7</td><td>Typ         </td><td style=\"text-align: right;\">           1</td><td>Gd           </td><td>Detchd      </td><td style=\"text-align: right;\">         1998</td><td>Unf           </td><td style=\"text-align: right;\">           3</td><td style=\"text-align: right;\">         642</td><td>TA          </td><td>TA          </td><td>Y           </td><td style=\"text-align: right;\">           0</td><td style=\"text-align: right;\">           35</td><td style=\"text-align: right;\">            272</td><td style=\"text-align: right;\">          0</td><td style=\"text-align: right;\">            0</td><td style=\"text-align: right;\">         0</td><td>        </td><td>       </td><td>             </td><td style=\"text-align: right;\">        0</td><td style=\"text-align: right;\">       2</td><td style=\"text-align: right;\">    2006</td><td>WD        </td><td>Abnorml        </td><td style=\"text-align: right;\">    11.8494</td><td style=\"text-align: right;\">         1</td><td style=\"text-align: right;\">   1  </td></tr>\n",
       "<tr><td style=\"text-align: right;\">   5</td><td style=\"text-align: right;\">          50</td><td>RL        </td><td style=\"text-align: right;\">           85</td><td style=\"text-align: right;\">    14115</td><td>Pave    </td><td>       </td><td>IR1       </td><td>Lvl          </td><td>AllPub     </td><td>Inside     </td><td>Gtl        </td><td>Mitchel       </td><td>Norm        </td><td>Norm        </td><td>1Fam      </td><td>1.5Fin      </td><td style=\"text-align: right;\">            5</td><td style=\"text-align: right;\">            5</td><td style=\"text-align: right;\">       1993</td><td style=\"text-align: right;\">          1995</td><td>Gable      </td><td>CompShg   </td><td>VinylSd      </td><td>VinylSd      </td><td>None        </td><td style=\"text-align: right;\">           0</td><td>TA         </td><td>TA         </td><td>Wood        </td><td>Gd        </td><td>TA        </td><td>No            </td><td>GLQ           </td><td style=\"text-align: right;\">         732</td><td>Unf           </td><td style=\"text-align: right;\">           0</td><td style=\"text-align: right;\">         64</td><td style=\"text-align: right;\">          796</td><td>GasA     </td><td>Ex         </td><td>Y           </td><td>SBrkr       </td><td style=\"text-align: right;\">       796</td><td style=\"text-align: right;\">       566</td><td style=\"text-align: right;\">             0</td><td style=\"text-align: right;\">    7.21671</td><td style=\"text-align: right;\">             1</td><td style=\"text-align: right;\">             1</td><td>TA           </td><td style=\"text-align: right;\">             5</td><td>Typ         </td><td style=\"text-align: right;\">           0</td><td>             </td><td>Attchd      </td><td style=\"text-align: right;\">         1993</td><td>Unf           </td><td style=\"text-align: right;\">           2</td><td style=\"text-align: right;\">         480</td><td>TA          </td><td>TA          </td><td>Y           </td><td style=\"text-align: right;\">          40</td><td style=\"text-align: right;\">           30</td><td style=\"text-align: right;\">              0</td><td style=\"text-align: right;\">        320</td><td style=\"text-align: right;\">            0</td><td style=\"text-align: right;\">         0</td><td>        </td><td>MnPrv  </td><td>Shed         </td><td style=\"text-align: right;\">      700</td><td style=\"text-align: right;\">      10</td><td style=\"text-align: right;\">    2009</td><td>WD        </td><td>Normal         </td><td style=\"text-align: right;\">    11.8706</td><td style=\"text-align: right;\">         1</td><td style=\"text-align: right;\">   1.5</td></tr>\n",
       "<tr><td style=\"text-align: right;\">   6</td><td style=\"text-align: right;\">          20</td><td>RL        </td><td style=\"text-align: right;\">           75</td><td style=\"text-align: right;\">    10084</td><td>Pave    </td><td>       </td><td>Reg       </td><td>Lvl          </td><td>AllPub     </td><td>Inside     </td><td>Gtl        </td><td>Somerst       </td><td>Norm        </td><td>Norm        </td><td>1Fam      </td><td>1Story      </td><td style=\"text-align: right;\">            8</td><td style=\"text-align: right;\">            5</td><td style=\"text-align: right;\">       2004</td><td style=\"text-align: right;\">          2005</td><td>Gable      </td><td>CompShg   </td><td>VinylSd      </td><td>VinylSd      </td><td>Stone       </td><td style=\"text-align: right;\">         186</td><td>Gd         </td><td>TA         </td><td>PConc       </td><td>Ex        </td><td>TA        </td><td>Av            </td><td>GLQ           </td><td style=\"text-align: right;\">        1369</td><td>Unf           </td><td style=\"text-align: right;\">           0</td><td style=\"text-align: right;\">        317</td><td style=\"text-align: right;\">         1686</td><td>GasA     </td><td>Ex         </td><td>Y           </td><td>SBrkr       </td><td style=\"text-align: right;\">      1694</td><td style=\"text-align: right;\">         0</td><td style=\"text-align: right;\">             0</td><td style=\"text-align: right;\">    7.43485</td><td style=\"text-align: right;\">             3</td><td style=\"text-align: right;\">             1</td><td>Gd           </td><td style=\"text-align: right;\">             7</td><td>Typ         </td><td style=\"text-align: right;\">           1</td><td>Gd           </td><td>Attchd      </td><td style=\"text-align: right;\">         2004</td><td>RFn           </td><td style=\"text-align: right;\">           2</td><td style=\"text-align: right;\">         636</td><td>TA          </td><td>TA          </td><td>Y           </td><td style=\"text-align: right;\">         255</td><td style=\"text-align: right;\">           57</td><td style=\"text-align: right;\">              0</td><td style=\"text-align: right;\">          0</td><td style=\"text-align: right;\">            0</td><td style=\"text-align: right;\">         0</td><td>        </td><td>       </td><td>             </td><td style=\"text-align: right;\">        0</td><td style=\"text-align: right;\">       8</td><td style=\"text-align: right;\">    2007</td><td>WD        </td><td>Normal         </td><td style=\"text-align: right;\">    12.6346</td><td style=\"text-align: right;\">         1</td><td style=\"text-align: right;\">   2  </td></tr>\n",
       "<tr><td style=\"text-align: right;\">   7</td><td style=\"text-align: right;\">          60</td><td>RL        </td><td style=\"text-align: right;\">          nan</td><td style=\"text-align: right;\">    10382</td><td>Pave    </td><td>       </td><td>IR1       </td><td>Lvl          </td><td>AllPub     </td><td>Corner     </td><td>Gtl        </td><td>NWAmes        </td><td>PosN        </td><td>Norm        </td><td>1Fam      </td><td>2Story      </td><td style=\"text-align: right;\">            7</td><td style=\"text-align: right;\">            6</td><td style=\"text-align: right;\">       1973</td><td style=\"text-align: right;\">          1973</td><td>Gable      </td><td>CompShg   </td><td>HdBoard      </td><td>HdBoard      </td><td>Stone       </td><td style=\"text-align: right;\">         240</td><td>TA         </td><td>TA         </td><td>CBlock      </td><td>Gd        </td><td>TA        </td><td>Mn            </td><td>ALQ           </td><td style=\"text-align: right;\">         859</td><td>BLQ           </td><td style=\"text-align: right;\">          32</td><td style=\"text-align: right;\">        216</td><td style=\"text-align: right;\">         1107</td><td>GasA     </td><td>Ex         </td><td>Y           </td><td>SBrkr       </td><td style=\"text-align: right;\">      1107</td><td style=\"text-align: right;\">       983</td><td style=\"text-align: right;\">             0</td><td style=\"text-align: right;\">    7.64492</td><td style=\"text-align: right;\">             3</td><td style=\"text-align: right;\">             1</td><td>TA           </td><td style=\"text-align: right;\">             7</td><td>Typ         </td><td style=\"text-align: right;\">           2</td><td>TA           </td><td>Attchd      </td><td style=\"text-align: right;\">         1973</td><td>RFn           </td><td style=\"text-align: right;\">           2</td><td style=\"text-align: right;\">         484</td><td>TA          </td><td>TA          </td><td>Y           </td><td style=\"text-align: right;\">         235</td><td style=\"text-align: right;\">          204</td><td style=\"text-align: right;\">            228</td><td style=\"text-align: right;\">          0</td><td style=\"text-align: right;\">            0</td><td style=\"text-align: right;\">         0</td><td>        </td><td>       </td><td>Shed         </td><td style=\"text-align: right;\">      350</td><td style=\"text-align: right;\">      11</td><td style=\"text-align: right;\">    2009</td><td>WD        </td><td>Normal         </td><td style=\"text-align: right;\">    12.2061</td><td style=\"text-align: right;\">         1</td><td style=\"text-align: right;\">   2.5</td></tr>\n",
       "<tr><td style=\"text-align: right;\">   8</td><td style=\"text-align: right;\">          50</td><td>RM        </td><td style=\"text-align: right;\">           51</td><td style=\"text-align: right;\">     6120</td><td>Pave    </td><td>       </td><td>Reg       </td><td>Lvl          </td><td>AllPub     </td><td>Inside     </td><td>Gtl        </td><td>OldTown       </td><td>Artery      </td><td>Norm        </td><td>1Fam      </td><td>1.5Fin      </td><td style=\"text-align: right;\">            7</td><td style=\"text-align: right;\">            5</td><td style=\"text-align: right;\">       1931</td><td style=\"text-align: right;\">          1950</td><td>Gable      </td><td>CompShg   </td><td>BrkFace      </td><td>Wd Shng      </td><td>None        </td><td style=\"text-align: right;\">           0</td><td>TA         </td><td>TA         </td><td>BrkTil      </td><td>TA        </td><td>TA        </td><td>No            </td><td>Unf           </td><td style=\"text-align: right;\">           0</td><td>Unf           </td><td style=\"text-align: right;\">           0</td><td style=\"text-align: right;\">        952</td><td style=\"text-align: right;\">          952</td><td>GasA     </td><td>Gd         </td><td>Y           </td><td>FuseF       </td><td style=\"text-align: right;\">      1022</td><td style=\"text-align: right;\">       752</td><td style=\"text-align: right;\">             0</td><td style=\"text-align: right;\">    7.48099</td><td style=\"text-align: right;\">             2</td><td style=\"text-align: right;\">             2</td><td>TA           </td><td style=\"text-align: right;\">             8</td><td>Min1        </td><td style=\"text-align: right;\">           2</td><td>TA           </td><td>Detchd      </td><td style=\"text-align: right;\">         1931</td><td>Unf           </td><td style=\"text-align: right;\">           2</td><td style=\"text-align: right;\">         468</td><td>Fa          </td><td>TA          </td><td>Y           </td><td style=\"text-align: right;\">          90</td><td style=\"text-align: right;\">            0</td><td style=\"text-align: right;\">            205</td><td style=\"text-align: right;\">          0</td><td style=\"text-align: right;\">            0</td><td style=\"text-align: right;\">         0</td><td>        </td><td>       </td><td>             </td><td style=\"text-align: right;\">        0</td><td style=\"text-align: right;\">       4</td><td style=\"text-align: right;\">    2008</td><td>WD        </td><td>Abnorml        </td><td style=\"text-align: right;\">    11.7745</td><td style=\"text-align: right;\">         0</td><td style=\"text-align: right;\">   2  </td></tr>\n",
       "<tr><td style=\"text-align: right;\">   9</td><td style=\"text-align: right;\">         190</td><td>RL        </td><td style=\"text-align: right;\">           50</td><td style=\"text-align: right;\">     7420</td><td>Pave    </td><td>       </td><td>Reg       </td><td>Lvl          </td><td>AllPub     </td><td>Corner     </td><td>Gtl        </td><td>BrkSide       </td><td>Artery      </td><td>Artery      </td><td>2fmCon    </td><td>1.5Unf      </td><td style=\"text-align: right;\">            5</td><td style=\"text-align: right;\">            6</td><td style=\"text-align: right;\">       1939</td><td style=\"text-align: right;\">          1950</td><td>Gable      </td><td>CompShg   </td><td>MetalSd      </td><td>MetalSd      </td><td>None        </td><td style=\"text-align: right;\">           0</td><td>TA         </td><td>TA         </td><td>BrkTil      </td><td>TA        </td><td>TA        </td><td>No            </td><td>GLQ           </td><td style=\"text-align: right;\">         851</td><td>Unf           </td><td style=\"text-align: right;\">           0</td><td style=\"text-align: right;\">        140</td><td style=\"text-align: right;\">          991</td><td>GasA     </td><td>Ex         </td><td>Y           </td><td>SBrkr       </td><td style=\"text-align: right;\">      1077</td><td style=\"text-align: right;\">         0</td><td style=\"text-align: right;\">             0</td><td style=\"text-align: right;\">    6.98193</td><td style=\"text-align: right;\">             2</td><td style=\"text-align: right;\">             2</td><td>TA           </td><td style=\"text-align: right;\">             5</td><td>Typ         </td><td style=\"text-align: right;\">           2</td><td>TA           </td><td>Attchd      </td><td style=\"text-align: right;\">         1939</td><td>RFn           </td><td style=\"text-align: right;\">           1</td><td style=\"text-align: right;\">         205</td><td>Gd          </td><td>TA          </td><td>Y           </td><td style=\"text-align: right;\">           0</td><td style=\"text-align: right;\">            4</td><td style=\"text-align: right;\">              0</td><td style=\"text-align: right;\">          0</td><td style=\"text-align: right;\">            0</td><td style=\"text-align: right;\">         0</td><td>        </td><td>       </td><td>             </td><td style=\"text-align: right;\">        0</td><td style=\"text-align: right;\">       1</td><td style=\"text-align: right;\">    2008</td><td>WD        </td><td>Normal         </td><td style=\"text-align: right;\">    11.6784</td><td style=\"text-align: right;\">         1</td><td style=\"text-align: right;\">   1  </td></tr>\n",
       "<tr><td style=\"text-align: right;\">  10</td><td style=\"text-align: right;\">          20</td><td>RL        </td><td style=\"text-align: right;\">           70</td><td style=\"text-align: right;\">    11200</td><td>Pave    </td><td>       </td><td>Reg       </td><td>Lvl          </td><td>AllPub     </td><td>Inside     </td><td>Gtl        </td><td>Sawyer        </td><td>Norm        </td><td>Norm        </td><td>1Fam      </td><td>1Story      </td><td style=\"text-align: right;\">            5</td><td style=\"text-align: right;\">            5</td><td style=\"text-align: right;\">       1965</td><td style=\"text-align: right;\">          1965</td><td>Hip        </td><td>CompShg   </td><td>HdBoard      </td><td>HdBoard      </td><td>None        </td><td style=\"text-align: right;\">           0</td><td>TA         </td><td>TA         </td><td>CBlock      </td><td>TA        </td><td>TA        </td><td>No            </td><td>Rec           </td><td style=\"text-align: right;\">         906</td><td>Unf           </td><td style=\"text-align: right;\">           0</td><td style=\"text-align: right;\">        134</td><td style=\"text-align: right;\">         1040</td><td>GasA     </td><td>Ex         </td><td>Y           </td><td>SBrkr       </td><td style=\"text-align: right;\">      1040</td><td style=\"text-align: right;\">         0</td><td style=\"text-align: right;\">             0</td><td style=\"text-align: right;\">    6.94698</td><td style=\"text-align: right;\">             3</td><td style=\"text-align: right;\">             1</td><td>TA           </td><td style=\"text-align: right;\">             5</td><td>Typ         </td><td style=\"text-align: right;\">           0</td><td>             </td><td>Detchd      </td><td style=\"text-align: right;\">         1965</td><td>Unf           </td><td style=\"text-align: right;\">           1</td><td style=\"text-align: right;\">         384</td><td>TA          </td><td>TA          </td><td>Y           </td><td style=\"text-align: right;\">           0</td><td style=\"text-align: right;\">            0</td><td style=\"text-align: right;\">              0</td><td style=\"text-align: right;\">          0</td><td style=\"text-align: right;\">            0</td><td style=\"text-align: right;\">         0</td><td>        </td><td>       </td><td>             </td><td style=\"text-align: right;\">        0</td><td style=\"text-align: right;\">       2</td><td style=\"text-align: right;\">    2008</td><td>WD        </td><td>Normal         </td><td style=\"text-align: right;\">    11.7714</td><td style=\"text-align: right;\">         1</td><td style=\"text-align: right;\">   1  </td></tr>\n",
       "<tr><td style=\"text-align: right;\">  12</td><td style=\"text-align: right;\">          20</td><td>RL        </td><td style=\"text-align: right;\">          nan</td><td style=\"text-align: right;\">    12968</td><td>Pave    </td><td>       </td><td>IR2       </td><td>Lvl          </td><td>AllPub     </td><td>Inside     </td><td>Gtl        </td><td>Sawyer        </td><td>Norm        </td><td>Norm        </td><td>1Fam      </td><td>1Story      </td><td style=\"text-align: right;\">            5</td><td style=\"text-align: right;\">            6</td><td style=\"text-align: right;\">       1962</td><td style=\"text-align: right;\">          1962</td><td>Hip        </td><td>CompShg   </td><td>HdBoard      </td><td>Plywood      </td><td>None        </td><td style=\"text-align: right;\">           0</td><td>TA         </td><td>TA         </td><td>CBlock      </td><td>TA        </td><td>TA        </td><td>No            </td><td>ALQ           </td><td style=\"text-align: right;\">         737</td><td>Unf           </td><td style=\"text-align: right;\">           0</td><td style=\"text-align: right;\">        175</td><td style=\"text-align: right;\">          912</td><td>GasA     </td><td>TA         </td><td>Y           </td><td>SBrkr       </td><td style=\"text-align: right;\">       912</td><td style=\"text-align: right;\">         0</td><td style=\"text-align: right;\">             0</td><td style=\"text-align: right;\">    6.81564</td><td style=\"text-align: right;\">             2</td><td style=\"text-align: right;\">             1</td><td>TA           </td><td style=\"text-align: right;\">             4</td><td>Typ         </td><td style=\"text-align: right;\">           0</td><td>             </td><td>Detchd      </td><td style=\"text-align: right;\">         1962</td><td>Unf           </td><td style=\"text-align: right;\">           1</td><td style=\"text-align: right;\">         352</td><td>TA          </td><td>TA          </td><td>Y           </td><td style=\"text-align: right;\">         140</td><td style=\"text-align: right;\">            0</td><td style=\"text-align: right;\">              0</td><td style=\"text-align: right;\">          0</td><td style=\"text-align: right;\">          176</td><td style=\"text-align: right;\">         0</td><td>        </td><td>       </td><td>             </td><td style=\"text-align: right;\">        0</td><td style=\"text-align: right;\">       9</td><td style=\"text-align: right;\">    2008</td><td>WD        </td><td>Normal         </td><td style=\"text-align: right;\">    11.8776</td><td style=\"text-align: right;\">         1</td><td style=\"text-align: right;\">   1  </td></tr>\n",
       "<tr><td style=\"text-align: right;\">  13</td><td style=\"text-align: right;\">          20</td><td>RL        </td><td style=\"text-align: right;\">           91</td><td style=\"text-align: right;\">    10652</td><td>Pave    </td><td>       </td><td>IR1       </td><td>Lvl          </td><td>AllPub     </td><td>Inside     </td><td>Gtl        </td><td>CollgCr       </td><td>Norm        </td><td>Norm        </td><td>1Fam      </td><td>1Story      </td><td style=\"text-align: right;\">            7</td><td style=\"text-align: right;\">            5</td><td style=\"text-align: right;\">       2006</td><td style=\"text-align: right;\">          2007</td><td>Gable      </td><td>CompShg   </td><td>VinylSd      </td><td>VinylSd      </td><td>Stone       </td><td style=\"text-align: right;\">         306</td><td>Gd         </td><td>TA         </td><td>PConc       </td><td>Gd        </td><td>TA        </td><td>Av            </td><td>Unf           </td><td style=\"text-align: right;\">           0</td><td>Unf           </td><td style=\"text-align: right;\">           0</td><td style=\"text-align: right;\">       1494</td><td style=\"text-align: right;\">         1494</td><td>GasA     </td><td>Ex         </td><td>Y           </td><td>SBrkr       </td><td style=\"text-align: right;\">      1494</td><td style=\"text-align: right;\">         0</td><td style=\"text-align: right;\">             0</td><td style=\"text-align: right;\">    7.30921</td><td style=\"text-align: right;\">             3</td><td style=\"text-align: right;\">             1</td><td>Gd           </td><td style=\"text-align: right;\">             7</td><td>Typ         </td><td style=\"text-align: right;\">           1</td><td>Gd           </td><td>Attchd      </td><td style=\"text-align: right;\">         2006</td><td>RFn           </td><td style=\"text-align: right;\">           3</td><td style=\"text-align: right;\">         840</td><td>TA          </td><td>TA          </td><td>Y           </td><td style=\"text-align: right;\">         160</td><td style=\"text-align: right;\">           33</td><td style=\"text-align: right;\">              0</td><td style=\"text-align: right;\">          0</td><td style=\"text-align: right;\">            0</td><td style=\"text-align: right;\">         0</td><td>        </td><td>       </td><td>             </td><td style=\"text-align: right;\">        0</td><td style=\"text-align: right;\">       8</td><td style=\"text-align: right;\">    2007</td><td>New       </td><td>Partial        </td><td style=\"text-align: right;\">    12.5408</td><td style=\"text-align: right;\">         0</td><td style=\"text-align: right;\">   2  </td></tr>\n",
       "<tr><td style=\"text-align: right;\">  14</td><td style=\"text-align: right;\">          20</td><td>RL        </td><td style=\"text-align: right;\">          nan</td><td style=\"text-align: right;\">    10920</td><td>Pave    </td><td>       </td><td>IR1       </td><td>Lvl          </td><td>AllPub     </td><td>Corner     </td><td>Gtl        </td><td>NAmes         </td><td>Norm        </td><td>Norm        </td><td>1Fam      </td><td>1Story      </td><td style=\"text-align: right;\">            6</td><td style=\"text-align: right;\">            5</td><td style=\"text-align: right;\">       1960</td><td style=\"text-align: right;\">          1960</td><td>Hip        </td><td>CompShg   </td><td>MetalSd      </td><td>MetalSd      </td><td>BrkFace     </td><td style=\"text-align: right;\">         212</td><td>TA         </td><td>TA         </td><td>CBlock      </td><td>TA        </td><td>TA        </td><td>No            </td><td>BLQ           </td><td style=\"text-align: right;\">         733</td><td>Unf           </td><td style=\"text-align: right;\">           0</td><td style=\"text-align: right;\">        520</td><td style=\"text-align: right;\">         1253</td><td>GasA     </td><td>TA         </td><td>Y           </td><td>SBrkr       </td><td style=\"text-align: right;\">      1253</td><td style=\"text-align: right;\">         0</td><td style=\"text-align: right;\">             0</td><td style=\"text-align: right;\">    7.1333 </td><td style=\"text-align: right;\">             2</td><td style=\"text-align: right;\">             1</td><td>TA           </td><td style=\"text-align: right;\">             5</td><td>Typ         </td><td style=\"text-align: right;\">           1</td><td>Fa           </td><td>Attchd      </td><td style=\"text-align: right;\">         1960</td><td>RFn           </td><td style=\"text-align: right;\">           1</td><td style=\"text-align: right;\">         352</td><td>TA          </td><td>TA          </td><td>Y           </td><td style=\"text-align: right;\">           0</td><td style=\"text-align: right;\">          213</td><td style=\"text-align: right;\">            176</td><td style=\"text-align: right;\">          0</td><td style=\"text-align: right;\">            0</td><td style=\"text-align: right;\">         0</td><td>        </td><td>GdWo   </td><td>             </td><td style=\"text-align: right;\">        0</td><td style=\"text-align: right;\">       5</td><td style=\"text-align: right;\">    2008</td><td>WD        </td><td>Normal         </td><td style=\"text-align: right;\">    11.964 </td><td style=\"text-align: right;\">         1</td><td style=\"text-align: right;\">   1.5</td></tr>\n",
       "</tbody>\n",
       "</table>"
      ]
     },
     "metadata": {},
     "output_type": "display_data"
    },
    {
     "data": {
      "text/plain": []
     },
     "execution_count": 110,
     "metadata": {},
     "output_type": "execute_result"
    }
   ],
   "source": [
    "train "
   ]
  },
  {
   "cell_type": "code",
   "execution_count": 111,
   "metadata": {},
   "outputs": [],
   "source": [
    "def train_random_forest(ntrees):\n",
    "    with mlflow.start_run():\n",
    "        rf = H2ORandomForestEstimator(ntrees=ntrees,max_depth=max_depth)\n",
    "        train_cols = [n for n in df_rf.col_names if n != \"SalePrice\"]\n",
    "        rf.train(train_cols, \"SalePrice\", training_frame=train, validation_frame=test)\n",
    "        #add oor\n",
    "        mlflow.log_param(\"ntrees\", ntrees)\n",
    "        mlflow.log_param(\"max_depth\", max_depth)\n",
    "        \n",
    "        mlflow.log_metric(\"rmse\", rf.rmse())\n",
    "        mlflow.log_metric(\"r2\", rf.r2())\n",
    "        #mlflow.log_metric(\"mae\", rf.mae())\n",
    "        \n",
    "        mlflow.h2o.log_model(rf, \"model\")"
   ]
  },
  {
   "cell_type": "code",
   "execution_count": 112,
   "metadata": {
    "scrolled": true
   },
   "outputs": [
    {
     "name": "stdout",
     "output_type": "stream",
     "text": [
      "drf Model Build progress: |███████████████████████████████████████████████| 100%\n",
      "drf Model Build progress: |███████████████████████████████████████████████| 100%\n",
      "drf Model Build progress: |███████████████████████████████████████████████| 100%\n",
      "drf Model Build progress: |███████████████████████████████████████████████| 100%\n",
      "drf Model Build progress: |███████████████████████████████████████████████| 100%\n",
      "drf Model Build progress: |███████████████████████████████████████████████| 100%\n",
      "drf Model Build progress: |███████████████████████████████████████████████| 100%\n",
      "drf Model Build progress: |███████████████████████████████████████████████| 100%\n",
      "drf Model Build progress: |███████████████████████████████████████████████| 100%\n",
      "drf Model Build progress: |███████████████████████████████████████████████| 100%\n",
      "drf Model Build progress: |███████████████████████████████████████████████| 100%\n",
      "drf Model Build progress: |███████████████████████████████████████████████| 100%\n",
      "drf Model Build progress: |███████████████████████████████████████████████| 100%\n",
      "drf Model Build progress: |███████████████████████████████████████████████| 100%\n",
      "drf Model Build progress: |███████████████████████████████████████████████| 100%\n",
      "drf Model Build progress: |███████████████████████████████████████████████| 100%\n"
     ]
    }
   ],
   "source": [
    "for ntrees in [50, 100, 200, 400]:\n",
    "    for max_depth in [10, 15, 20, 30]:\n",
    "        train_random_forest(ntrees)\n",
    "        \n",
    "        \n",
    "#max features "
   ]
  },
  {
   "cell_type": "code",
   "execution_count": 113,
   "metadata": {},
   "outputs": [],
   "source": [
    "#import yaml"
   ]
  },
  {
   "cell_type": "code",
   "execution_count": 114,
   "metadata": {},
   "outputs": [],
   "source": [
    "#yaml.safe_dump"
   ]
  }
 ],
 "metadata": {
  "kernelspec": {
   "display_name": "Python 3",
   "language": "python",
   "name": "python3"
  },
  "language_info": {
   "codemirror_mode": {
    "name": "ipython",
    "version": 3
   },
   "file_extension": ".py",
   "mimetype": "text/x-python",
   "name": "python",
   "nbconvert_exporter": "python",
   "pygments_lexer": "ipython3",
   "version": "3.7.3"
  }
 },
 "nbformat": 4,
 "nbformat_minor": 2
}
